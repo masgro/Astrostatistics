{
 "cells": [
  {
   "cell_type": "markdown",
   "metadata": {},
   "source": [
    "# Introucción a Python\n",
    "\n",
    "## ¿Qué es Python?\n",
    "\n",
    "Fundador: Guido van Rossum (lo comenzó en la Navidad del '89)\n",
    "Primera versión: Febrero de 1991\n",
    "\n",
    "- Lenguaje de script\n",
    "- Indentación\n",
    "- Tipos de datos de Alto Nivel\n",
    "- Extensibilidad\n",
    "- Lenguaje interpretado\n",
    "\n",
    "## ¿Cómo lanzar el interprete?\n",
    "\n",
    "Para ejecutar el interprete de Python simplemente ejecutamos el comando **python** en una terminal:\n",
    "\n",
    "```shell\n",
    "> python (enter)\n",
    "Python 2.7.14 |Anaconda, Inc.| (default, Dec  7 2017, 17:05:42) \n",
    "[GCC 7.2.0] on linux2\n",
    "Type \"help\", \"copyright\", \"credits\" or \"license\" for more information.\n",
    ">>> \n",
    "```\n",
    "\n",
    "y ahora estamos listos para comenzar a dar nuestro primeros pasos en Python"
   ]
  },
  {
   "cell_type": "markdown",
   "metadata": {},
   "source": [
    "        "
   ]
  },
  {
   "cell_type": "markdown",
   "metadata": {},
   "source": [
    "## Algunos tipos de datos\n",
    "\n",
    " - *Strings*\n",
    "```Python\n",
    "s = \"Esto es un string\"\n",
    "```\n",
    " - Enteros\n",
    " ```Python\n",
    "a = 2\n",
    "```\n",
    " - *Floats*, decimales\n",
    "```Python\n",
    "x = 3.14\n",
    "```"
   ]
  },
  {
   "cell_type": "markdown",
   "metadata": {},
   "source": [
    "## Operaciones simples\n",
    "\n",
    "### Impresión en pantalla\n",
    "\n",
    "Para imprimir en pantalla utilizamos el comando, **print**. Por ejemplo,\n",
    "\n",
    "```python\n",
    "print \"Hello, World!\"\n",
    "```"
   ]
  },
  {
   "cell_type": "code",
   "execution_count": null,
   "metadata": {},
   "outputs": [],
   "source": [
    "#Try it\n",
    "print \"Hello, World!\""
   ]
  },
  {
   "cell_type": "markdown",
   "metadata": {},
   "source": [
    "### Asignación de variables\n",
    "\n",
    "```python\n",
    "x = 2\n",
    "```"
   ]
  },
  {
   "cell_type": "code",
   "execution_count": null,
   "metadata": {},
   "outputs": [],
   "source": [
    "#Try it\n",
    "x = 2"
   ]
  },
  {
   "cell_type": "code",
   "execution_count": null,
   "metadata": {},
   "outputs": [],
   "source": [
    "x"
   ]
  },
  {
   "cell_type": "code",
   "execution_count": null,
   "metadata": {},
   "outputs": [],
   "source": [
    "print x"
   ]
  },
  {
   "cell_type": "markdown",
   "metadata": {},
   "source": [
    "## Definición de funciones\n",
    "\n",
    "```python\n",
    "def function(n):\n",
    "    return n + 1\n",
    "```\n",
    "### Funciones con parámetros opcionales"
   ]
  },
  {
   "cell_type": "markdown",
   "metadata": {},
   "source": [
    "## Bibliotecas útiles"
   ]
  },
  {
   "cell_type": "code",
   "execution_count": null,
   "metadata": {},
   "outputs": [],
   "source": []
  }
 ],
 "metadata": {
  "kernelspec": {
   "display_name": "Python 2",
   "language": "python",
   "name": "python2"
  },
  "language_info": {
   "codemirror_mode": {
    "name": "ipython",
    "version": 2
   },
   "file_extension": ".py",
   "mimetype": "text/x-python",
   "name": "python",
   "nbconvert_exporter": "python",
   "pygments_lexer": "ipython2",
   "version": "2.7.14"
  }
 },
 "nbformat": 4,
 "nbformat_minor": 1
}
