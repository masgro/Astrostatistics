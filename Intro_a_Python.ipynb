{
 "cells": [
  {
   "cell_type": "markdown",
   "metadata": {},
   "source": [
    "<img src=\"images/python-logo-generic.svg\" />"
   ]
  },
  {
   "cell_type": "markdown",
   "metadata": {},
   "source": [
    "# Introucción a Python\n",
    "[¿Qué es Python](#0)\n",
    " - [Programación Orientada a Objetos](#01)\n",
    " - [¿Cómo lanzar el interprete?](#02)\n",
    " - [Distrubuciones](#03)\n",
    " \n",
    "[Tipos de Datos](#1)\n",
    "\n",
    "[Operaciones simples](#2)\n",
    "\n",
    " - [Imprimir en pantalla](#21)\n",
    " - [Asignación de variables](#22)\n",
    " - [Operaciones aritméticas](#23)\n",
    " \n",
    "[Definición de funciones](#3)\n",
    " - [Funciones con parámetros opcionales](#31)\n",
    "\n",
    "[Bibliotecas útiles](#10)"
   ]
  },
  {
   "cell_type": "markdown",
   "metadata": {
    "slideshow": {
     "slide_type": "-"
    }
   },
   "source": [
    "<a id=\"0\"></a>\n",
    "## ¿Qué es Python?\n",
    "\n",
    "Fundador: Guido van Rossum (lo comenzó en la Navidad del '89)\n",
    "Primera versión: Febrero de 1991\n",
    "\n",
    "- Lenguaje de script\n",
    "- Indentación como sistema para definir bloques \n",
    "- Tipos de datos de Alto Nivel\n",
    "- Extensibilidad\n",
    "- Lenguaje interpretado"
   ]
  },
  {
   "cell_type": "markdown",
   "metadata": {},
   "source": [
    "<a id=\"01\"></a>\n",
    "### Programación Orientada a Objetos\n",
    "\n",
    "En Python las variables y funciones son objetos. Cada objeto tiene atributos específicos."
   ]
  },
  {
   "cell_type": "markdown",
   "metadata": {},
   "source": [
    "### Distribuidores\n",
    "\n",
    "Algunas empresas que distribuyen Python y paquetes son:\n",
    "\n",
    " - __[Canopy](https://www.enthought.com/product/canopy/)__\n",
    " - __[Anaconda](https://anaconda.org/)__"
   ]
  },
  {
   "cell_type": "markdown",
   "metadata": {},
   "source": [
    "<a id=\"02\"></a>\n",
    "### ¿Cómo lanzar el interprete?\n",
    "\n",
    "Para ejecutar el interprete de Python simplemente ejecutamos el comando **python** en una terminal:\n",
    "\n",
    "```shell\n",
    "> python (enter)\n",
    "Python 2.7.14 |Anaconda, Inc.| (default, Dec  7 2017, 17:05:42) \n",
    "[GCC 7.2.0] on linux2\n",
    "Type \"help\", \"copyright\", \"credits\" or \"license\" for more information.\n",
    ">>> \n",
    "```\n",
    "\n",
    "y ahora estamos listos para comenzar a dar nuestro primeros pasos en Python"
   ]
  },
  {
   "cell_type": "markdown",
   "metadata": {},
   "source": [
    "## Tipos de datos\n",
    "\n",
    " - *Strings*, cadenas de caracteres\n",
    "```Python\n",
    "s = \"Esto es un string\"\n",
    "```\n",
    " - Enteros\n",
    " ```Python\n",
    "a = 2\n",
    "```\n",
    " - *Floats*, flotantes\n",
    "```Python\n",
    "x = 3.14\n",
    "```\n",
    " - *Bool*, booleanos\n",
    "```Python\n",
    "b = True\n",
    "```\n",
    " - Listas\n",
    "```Python\n",
    "l = [1.,2.,3.]\n",
    "```\n",
    " - Tuplas\n",
    "```Python\n",
    "t = (1,'Nombre')\n",
    "```\n",
    "\n",
    "Si se desea conocer de qué tipo es una variable se puede utilizar el comando **type**\n",
    "```Python\n",
    "type(x)\n",
    "```\n",
    "Y el comando **help** se utiliza para obtener mayor información sobre la variables y sus atributos."
   ]
  },
  {
   "cell_type": "code",
   "execution_count": null,
   "metadata": {},
   "outputs": [],
   "source": [
    "#Try it\n",
    "x = 2.0\n",
    "type(x)"
   ]
  },
  {
   "cell_type": "code",
   "execution_count": null,
   "metadata": {},
   "outputs": [],
   "source": [
    "help(x)"
   ]
  },
  {
   "cell_type": "markdown",
   "metadata": {},
   "source": [
    "## Operaciones simples\n",
    "\n",
    "### Impresión en pantalla\n",
    "\n",
    "Para imprimir en pantalla utilizamos el comando, **print**. Por ejemplo,\n",
    "\n",
    "```python\n",
    "print \"Hello, World!\"\n",
    "```"
   ]
  },
  {
   "cell_type": "code",
   "execution_count": null,
   "metadata": {},
   "outputs": [],
   "source": [
    "#Try it\n",
    "print \"Hello, World!\""
   ]
  },
  {
   "cell_type": "markdown",
   "metadata": {},
   "source": [
    "### Asignación de variables\n",
    "\n",
    "Para asignar un valor a una variables utilizamos el signo **igual** (**=**) :\n",
    "\n",
    "```python\n",
    "x = 2\n",
    "```\n",
    "\n",
    "En este caso asignamos el valor entero **2** a la variable **x**"
   ]
  },
  {
   "cell_type": "code",
   "execution_count": null,
   "metadata": {},
   "outputs": [],
   "source": [
    "#Try it\n",
    "x = 2"
   ]
  },
  {
   "cell_type": "code",
   "execution_count": null,
   "metadata": {},
   "outputs": [],
   "source": [
    "x"
   ]
  },
  {
   "cell_type": "code",
   "execution_count": null,
   "metadata": {},
   "outputs": [],
   "source": [
    "print x"
   ]
  },
  {
   "cell_type": "markdown",
   "metadata": {},
   "source": [
    "### Operaciones aritméticas\n",
    "\n",
    "El interprete de Python puede ser utilizado como una calculadora.\n",
    " - **+**, suma\n",
    " - **-**, resta\n",
    " - *****, multiplicación\n",
    " - **/**, división\n",
    " - ******, exponenciación (asociativa por la derecha)\n",
    " - **%**, module\n",
    " - **//**, división entera"
   ]
  },
  {
   "cell_type": "code",
   "execution_count": 28,
   "metadata": {},
   "outputs": [
    {
     "data": {
      "text/plain": [
       "-9"
      ]
     },
     "execution_count": 28,
     "metadata": {},
     "output_type": "execute_result"
    }
   ],
   "source": [
    "#Try it\n",
    "-3**2"
   ]
  },
  {
   "cell_type": "markdown",
   "metadata": {},
   "source": [
    "En Python el resultado de las operaciones es del mismo tipo que las variables utilizadas para la misma. En particular, si realizamos una división de 2 números enteros, el resultado será otro entero. Por ello hay que tener especial cuidado cuando se hacen estas operaciones para evitar resultados indeseados. Por ejemplo, la división 2/3 dará como resultado 0."
   ]
  },
  {
   "cell_type": "code",
   "execution_count": 15,
   "metadata": {},
   "outputs": [
    {
     "name": "stdout",
     "output_type": "stream",
     "text": [
      "0\n"
     ]
    }
   ],
   "source": [
    "#Try it\n",
    "x = 2/3\n",
    "print x"
   ]
  },
  {
   "cell_type": "markdown",
   "metadata": {},
   "source": [
    "### Operaciones booleanas\n",
    "\n",
    " - **and**, si lógico\n",
    " - **or**, ó lógico\n",
    " - **not**, negación\n",
    " - comparación\n",
    "  - **==**, igualdad\n",
    "  - **!=**, diferente\n",
    "  - **<**, menor\n",
    "  - **<=**, menor igual \n",
    "  - **>**, mayor\n",
    "  - **>=**, mayor igual\n",
    "  "
   ]
  },
  {
   "cell_type": "markdown",
   "metadata": {},
   "source": [
    "## Definición de funciones\n",
    "\n",
    "Para definir funciones utilizamos la clave **def** seguida del nombre de la función, por ejemplo:\n",
    "\n",
    "```python\n",
    "def Hello():\n",
    "    print \"Hello, World!\"\n",
    "```\n",
    "\n",
    "entre paréntesis se especifican las variables de entrada de la función (en este caso ninguna)\n",
    "Para hacer el llamado a la función simplemente debemos escribir:\n",
    "\n",
    "```python\n",
    "Hello()\n",
    "```\n",
    "\n",
    "Otro ejemplo, esta función devuelve la suma de dos variables que le pasamos como argumentos\n",
    "\n",
    "```python\n",
    "def suma(x,y):\n",
    "    z = x + y\n",
    "    return(y)\n",
    "```\n",
    "\n",
    "y para llamarla en este caso hacemos:\n",
    "\n",
    "```python\n",
    "s = suma(x,y)\n",
    "```"
   ]
  },
  {
   "cell_type": "code",
   "execution_count": null,
   "metadata": {},
   "outputs": [],
   "source": [
    "#Try it\n",
    "def suma(x,y):\n",
    "    z = x + y\n",
    "    return(z)\n",
    "\n",
    "x = 2.0\n",
    "y = 3.0\n",
    "s = suma(x,y)\n",
    "print 'La suma es',s"
   ]
  },
  {
   "cell_type": "markdown",
   "metadata": {},
   "source": [
    "### Funciones con parámetros opcionales\n",
    "\n",
    "En algunas ocasiones precisamos definir funciones con argumentos opcionales. \n",
    "\n",
    "```Python\n",
    "def potencia(x,exp=2):\n",
    "    y = x**exp\n",
    "    return(y)\n",
    "```"
   ]
  },
  {
   "cell_type": "code",
   "execution_count": 20,
   "metadata": {},
   "outputs": [
    {
     "name": "stdout",
     "output_type": "stream",
     "text": [
      "a = 9.0 b = 81.0\n"
     ]
    }
   ],
   "source": [
    "#Try it\n",
    "def potencia(x,exp=2):\n",
    "    y = x**exp\n",
    "    return(y)\n",
    "\n",
    "a = potencia(3.0)\n",
    "b = potencia(3.0,exp=4)\n",
    "print 'a =',a,'b =',b"
   ]
  },
  {
   "cell_type": "markdown",
   "metadata": {},
   "source": [
    "<a id=\"10\"></a>\n",
    "## Bibliotecas útiles\n",
    " - __[Numpy](http://www.numpy.org/)__\n",
    " - __[Scipy](https://www.scipy.org/)__\n",
    " - __[Matplotlib](https://matplotlib.org/)__\n",
    " - __[Mayavi](https://docs.enthought.com/mayavi/mayavi/)__\n",
    " - __[AstroPy](http://www.astropy.org/)__\n",
    " - __[AstroML](http://www.astroml.org/)__\n",
    " - __[PyMC](http://scikit-learn.org/stable/)__"
   ]
  },
  {
   "cell_type": "code",
   "execution_count": null,
   "metadata": {},
   "outputs": [],
   "source": []
  }
 ],
 "metadata": {
  "kernelspec": {
   "display_name": "Python 2",
   "language": "python",
   "name": "python2"
  },
  "language_info": {
   "codemirror_mode": {
    "name": "ipython",
    "version": 2
   },
   "file_extension": ".py",
   "mimetype": "text/x-python",
   "name": "python",
   "nbconvert_exporter": "python",
   "pygments_lexer": "ipython2",
   "version": "2.7.14"
  }
 },
 "nbformat": 4,
 "nbformat_minor": 1
}
