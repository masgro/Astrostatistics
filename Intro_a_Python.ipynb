{
 "cells": [
  {
   "cell_type": "markdown",
   "metadata": {},
   "source": [
    "# Introucción a Python\n",
    "\n",
    "## ¿Qué es Python?\n",
    "\n",
    "Fundador: Guido van Rossum (lo comenzó en la Navidad del '89)\n",
    "Primera versión: Febrero de 1991\n",
    "\n",
    "- Lenguaje de script\n",
    "- Indentación\n",
    "- Tipos de datos de Alto Nivel\n",
    "- Extensibilidad\n",
    "- Lenguaje interpretado\n",
    "\n",
    "## Operaciones simples\n",
    "\n",
    "### Impresión en pantalla\n",
    "\n",
    "```python\n",
    "print \"Hello, World!\"\n",
    "```\n",
    "\n",
    "$$z=\\dfrac{2x}{3y}$$"
   ]
  },
  {
   "cell_type": "markdown",
   "metadata": {},
   "source": [
    "## Definición de funciones\n",
    "\n",
    "```python\n",
    "def function(n):\n",
    "    return n + 1\n",
    "```\n",
    "### Funciones con parámetros opcionales"
   ]
  },
  {
   "cell_type": "markdown",
   "metadata": {},
   "source": [
    "## Bibliotecas útiles"
   ]
  }
 ],
 "metadata": {
  "kernelspec": {
   "display_name": "Python 2",
   "language": "python",
   "name": "python2"
  },
  "language_info": {
   "codemirror_mode": {
    "name": "ipython",
    "version": 2
   },
   "file_extension": ".py",
   "mimetype": "text/x-python",
   "name": "python",
   "nbconvert_exporter": "python",
   "pygments_lexer": "ipython2",
   "version": "2.7.14"
  }
 },
 "nbformat": 4,
 "nbformat_minor": 1
}
