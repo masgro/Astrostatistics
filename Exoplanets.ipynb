{
 "cells": [
  {
   "cell_type": "code",
   "execution_count": 1,
   "metadata": {
    "ExecuteTime": {
     "end_time": "2018-11-04T03:58:59.412921Z",
     "start_time": "2018-11-04T03:58:59.042118Z"
    }
   },
   "outputs": [
    {
     "name": "stdout",
     "output_type": "stream",
     "text": [
      "Populating the interactive namespace from numpy and matplotlib\n"
     ]
    }
   ],
   "source": [
    "%pylab inline"
   ]
  },
  {
   "cell_type": "code",
   "execution_count": 2,
   "metadata": {
    "ExecuteTime": {
     "end_time": "2018-11-04T03:59:07.506554Z",
     "start_time": "2018-11-04T03:59:00.775497Z"
    }
   },
   "outputs": [
    {
     "data": {
      "text/plain": [
       "<matplotlib.collections.PathCollection at 0x7f0b0c91c810>"
      ]
     },
     "execution_count": 2,
     "metadata": {},
     "output_type": "execute_result"
    },
    {
     "data": {
      "image/png": "[encoded data removed]",
      "text/plain": [
       "<Figure size 432x288 with 1 Axes>"
      ]
     },
     "metadata": {},
     "output_type": "display_data"
    }
   ],
   "source": [
    "import xml.etree.ElementTree as ET, urllib, gzip, io\n",
    "url = \"https://github.com/OpenExoplanetCatalogue/oec_gzip/raw/master/systems.xml.gz\"                          \n",
    "oec = ET.parse(gzip.GzipFile(fileobj=io.BytesIO(urllib.urlopen(url).read()))) \n",
    "\n",
    "mass = []  \n",
    "radius = []\n",
    "age = []\n",
    "temp = []\n",
    "for planet in oec.findall(\".//planet\"):\n",
    "    a = planet.findtext(\"mass\")\n",
    "    b = planet.findtext(\"radius\")\n",
    "    c = planet.findtext(\"temperature\")\n",
    "    d = planet.findtext(\"age\")\n",
    "    if (a and b and c):\n",
    "        mass.append(float(a))\n",
    "        radius.append(float(b))\n",
    "        temp.append(float(c))\n",
    "        #age.append(float(d))\n",
    "\n",
    "plt.scatter(mass,temp)"
   ]
  },
  {
   "cell_type": "code",
   "execution_count": 9,
   "metadata": {
    "ExecuteTime": {
     "end_time": "2018-11-04T03:59:50.641823Z",
     "start_time": "2018-11-04T03:59:50.470907Z"
    }
   },
   "outputs": [],
   "source": [
    "par='name'\n",
    "\n",
    "S1=[]    #C\n",
    "S2=[]    #D\n",
    "P=[]      #B\n",
    "U=[]      #A\n",
    "\n",
    "for system in oec.findall('./system'):\n",
    "    binary = system.findall('binary')\n",
    "    if binary: #sistema binary\n",
    "        \n",
    "        binary = binary[0]\n",
    "        planet = binary.findall('planet')\n",
    "        if planet: #sistema circunbinario\n",
    "            for star in binary.findall('star'):\n",
    "                s = star.findtext(par)\n",
    "                P.append(s)\n",
    "                \n",
    "        else: #sistema circunestelar\n",
    "            \n",
    "            for star in binary.findall('star'): #reviso las estrellas\n",
    "                s = star.findtext(par)\n",
    "                cond = star.findtext('planet')\n",
    "                if cond: #estrella con planeta\n",
    "                    S1.append(s)\n",
    "                else: #estrella sin planeta\n",
    "                    S2.append(s)\n",
    "                    \n",
    "            for sub_binary in binary.findall('binary'): #binarias dentro de binarias\n",
    "                for star in sub_binary.findall('star'):\n",
    "                    s = star.findtext(par)\n",
    "                    cond = star.findtext('planet')\n",
    "                    if cond: #estrella con planeta\n",
    "                        S1.append(s)\n",
    "                    else: #estrella sin planeta\n",
    "                        S2.append(s)\n",
    "                        \n",
    "    else: #sistema unitario\n",
    "        for star in system.findall('star'):\n",
    "                s = star.findtext(par)\n",
    "                U.append(s)"
   ]
  },
  {
   "cell_type": "code",
   "execution_count": 10,
   "metadata": {
    "ExecuteTime": {
     "end_time": "2018-11-04T03:59:50.866951Z",
     "start_time": "2018-11-04T03:59:50.854548Z"
    }
   },
   "outputs": [
    {
     "data": {
      "text/plain": [
       "['16 Cygni B',\n",
       " '2M 044144',\n",
       " '30 Ari B',\n",
       " '51 Eri',\n",
       " '55 Cancri A',\n",
       " '83 Leonis B',\n",
       " '91 Aquarii A',\n",
       " 'alf Tau',\n",
       " 'Proxima Centauri',\n",
       " 'Alpha Centauri B',\n",
       " 'EPIC 201208431']"
      ]
     },
     "execution_count": 10,
     "metadata": {},
     "output_type": "execute_result"
    }
   ],
   "source": [
    "S1[0:11]"
   ]
  },
  {
   "cell_type": "code",
   "execution_count": 11,
   "metadata": {
    "ExecuteTime": {
     "end_time": "2018-11-04T03:59:51.110452Z",
     "start_time": "2018-11-04T03:59:51.091996Z"
    }
   },
   "outputs": [
    {
     "data": {
      "text/plain": [
       "['16 Cygni A',\n",
       " '16 Cygni C',\n",
       " '2M0441+2301 Aa',\n",
       " '2M0441+2301 Ab',\n",
       " '30 Ari Aa',\n",
       " '30 Ari Ab',\n",
       " '30 Ari C',\n",
       " 'GJ 3305 A',\n",
       " 'GJ 3305 B',\n",
       " '55 Cancri B',\n",
       " '83 Leonis A',\n",
       " '91 Aquarii B',\n",
       " '91 Aquarii C',\n",
       " 'alf Tau B',\n",
       " 'Alpha Centauri A',\n",
       " 'EPIC 201208431 B',\n",
       " 'EPIC 201384232 B',\n",
       " 'EPIC 201403446 B',\n",
       " 'EPIC 201549860 B',\n",
       " 'EPIC 201629650 B']"
      ]
     },
     "execution_count": 11,
     "metadata": {},
     "output_type": "execute_result"
    }
   ],
   "source": [
    "S2[0:20]"
   ]
  },
  {
   "cell_type": "code",
   "execution_count": 12,
   "metadata": {
    "ExecuteTime": {
     "end_time": "2018-11-04T03:59:51.322053Z",
     "start_time": "2018-11-04T03:59:51.312126Z"
    }
   },
   "outputs": [
    {
     "data": {
      "text/plain": [
       "['2M 1938+4603 A', '2M 1938+4603 B', '2MASS J02495639-0557352 A']"
      ]
     },
     "execution_count": 12,
     "metadata": {},
     "output_type": "execute_result"
    }
   ],
   "source": [
    "P[0:3]"
   ]
  },
  {
   "cell_type": "code",
   "execution_count": 13,
   "metadata": {
    "ExecuteTime": {
     "end_time": "2018-11-04T03:59:51.757585Z",
     "start_time": "2018-11-04T03:59:51.745407Z"
    }
   },
   "outputs": [
    {
     "data": {
      "text/plain": [
       "['11 Com', '11 UMi', '14 And']"
      ]
     },
     "execution_count": 13,
     "metadata": {},
     "output_type": "execute_result"
    }
   ],
   "source": [
    "U[:3]"
   ]
  },
  {
   "cell_type": "code",
   "execution_count": null,
   "metadata": {},
   "outputs": [],
   "source": []
  }
 ],
 "metadata": {
  "kernelspec": {
   "display_name": "Python 2",
   "language": "python",
   "name": "python2"
  },
  "language_info": {
   "codemirror_mode": {
    "name": "ipython",
    "version": 2
   },
   "file_extension": ".py",
   "mimetype": "text/x-python",
   "name": "python",
   "nbconvert_exporter": "python",
   "pygments_lexer": "ipython2",
   "version": "2.7.15"
  }
 },
 "nbformat": 4,
 "nbformat_minor": 2
}
