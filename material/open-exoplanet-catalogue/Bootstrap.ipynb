{
 "cells": [
  {
   "cell_type": "code",
   "execution_count": 1,
   "metadata": {
    "ExecuteTime": {
     "end_time": "2018-09-09T15:40:31.504271Z",
     "start_time": "2018-09-09T15:40:30.814114Z"
    }
   },
   "outputs": [],
   "source": [
    "import pandas\n",
    "import numpy as np\n",
    "import matplotlib.pyplot as plt"
   ]
  },
  {
   "cell_type": "code",
   "execution_count": 2,
   "metadata": {
    "ExecuteTime": {
     "end_time": "2018-09-09T15:40:31.573085Z",
     "start_time": "2018-09-09T15:40:31.509739Z"
    }
   },
   "outputs": [
    {
     "name": "stdout",
     "output_type": "stream",
     "text": [
      "Index([u'PlanetIdentifier', u'TypeFlag', u'PlanetaryMassJpt', u'RadiusJpt',\n",
      "       u'PeriodDays', u'SemiMajorAxisAU', u'Eccentricity', u'PeriastronDeg',\n",
      "       u'LongitudeDeg', u'AscendingNodeDeg', u'InclinationDeg',\n",
      "       u'SurfaceTempK', u'AgeGyr', u'DiscoveryMethod', u'DiscoveryYear',\n",
      "       u'LastUpdated', u'RightAscension', u'Declination', u'DistFromSunParsec',\n",
      "       u'HostStarMassSlrMass', u'HostStarRadiusSlrRad', u'HostStarMetallicity',\n",
      "       u'HostStarTempK', u'HostStarAgeGyr', u'ListsPlanetIsOn'],\n",
      "      dtype='object')\n"
     ]
    }
   ],
   "source": [
    "filename = \"oec.csv\"\n",
    "data = pandas.read_csv(filename)\n",
    "print data.columns"
   ]
  },
  {
   "cell_type": "code",
   "execution_count": 3,
   "metadata": {
    "ExecuteTime": {
     "end_time": "2018-09-09T15:40:32.040946Z",
     "start_time": "2018-09-09T15:40:32.030983Z"
    }
   },
   "outputs": [],
   "source": [
    "a = data[\"RadiusJpt\"]\n",
    "a = a[a.notna()]"
   ]
  },
  {
   "cell_type": "code",
   "execution_count": 4,
   "metadata": {
    "ExecuteTime": {
     "end_time": "2018-09-09T15:40:33.014540Z",
     "start_time": "2018-09-09T15:40:32.546321Z"
    }
   },
   "outputs": [
    {
     "data": {
      "text/plain": [
       "(array([  1.,   0.,   0.,   0.,   0.,   0.,   0.,   1.,   0.,   1.,   2.,\n",
       "         10.,  33., 107., 259., 425., 430., 548., 300., 105.,  62.,  48.,\n",
       "         78., 175., 143.,  44.,   1.,   0.,   0.,   1.]),\n",
       " array([-2.63827216, -2.52439138, -2.4105106 , -2.29662982, -2.18274904,\n",
       "        -2.06886826, -1.95498748, -1.8411067 , -1.72722592, -1.61334514,\n",
       "        -1.49946436, -1.38558358, -1.2717028 , -1.15782202, -1.04394124,\n",
       "        -0.93006046, -0.81617968, -0.7022989 , -0.58841812, -0.47453733,\n",
       "        -0.36065655, -0.24677577, -0.13289499, -0.01901421,  0.09486657,\n",
       "         0.20874735,  0.32262813,  0.43650891,  0.55038969,  0.66427047,\n",
       "         0.77815125]),\n",
       " <a list of 30 Patch objects>)"
      ]
     },
     "execution_count": 4,
     "metadata": {},
     "output_type": "execute_result"
    },
    {
     "data": {
      "image/png": "[encoded data removed]",
      "text/plain": [
       "<matplotlib.figure.Figure at 0x7f34b54e5190>"
      ]
     },
     "metadata": {},
     "output_type": "display_data"
    }
   ],
   "source": [
    "plt.hist(np.log10(a),bins=30)"
   ]
  },
  {
   "cell_type": "code",
   "execution_count": 5,
   "metadata": {
    "ExecuteTime": {
     "end_time": "2018-09-09T15:40:33.187108Z",
     "start_time": "2018-09-09T15:40:33.165679Z"
    }
   },
   "outputs": [
    {
     "name": "stdout",
     "output_type": "stream",
     "text": [
      "0.3711896948449642\n"
     ]
    }
   ],
   "source": [
    "print np.mean(a)"
   ]
  },
  {
   "cell_type": "code",
   "execution_count": 6,
   "metadata": {
    "ExecuteTime": {
     "end_time": "2018-09-09T15:40:34.893693Z",
     "start_time": "2018-09-09T15:40:33.837226Z"
    }
   },
   "outputs": [],
   "source": [
    "from astropy.stats import bootstrap"
   ]
  },
  {
   "cell_type": "code",
   "execution_count": 7,
   "metadata": {
    "ExecuteTime": {
     "end_time": "2018-09-09T15:40:34.912386Z",
     "start_time": "2018-09-09T15:40:34.900833Z"
    }
   },
   "outputs": [],
   "source": [
    "from astropy.utils import NumpyRNGContext"
   ]
  },
  {
   "cell_type": "code",
   "execution_count": 8,
   "metadata": {
    "ExecuteTime": {
     "end_time": "2018-09-09T15:40:35.047060Z",
     "start_time": "2018-09-09T15:40:34.919134Z"
    }
   },
   "outputs": [],
   "source": [
    "test_statistic = lambda x: (np.sum(x), np.mean(x))\n",
    "with NumpyRNGContext(1):\n",
    "    bootresult = bootstrap(np.array(a), 1000, bootfunc=np.mean)"
   ]
  },
  {
   "cell_type": "code",
   "execution_count": 9,
   "metadata": {
    "ExecuteTime": {
     "end_time": "2018-09-09T15:40:35.559480Z",
     "start_time": "2018-09-09T15:40:35.194455Z"
    }
   },
   "outputs": [
    {
     "data": {
      "text/plain": [
       "<matplotlib.collections.LineCollection at 0x7f34b1f97e90>"
      ]
     },
     "execution_count": 9,
     "metadata": {},
     "output_type": "execute_result"
    },
    {
     "data": {
      "image/png": "[encoded data removed]",
      "text/plain": [
       "<matplotlib.figure.Figure at 0x7f34b229c550>"
      ]
     },
     "metadata": {},
     "output_type": "display_data"
    }
   ],
   "source": [
    "plt.hist(bootresult)\n",
    "plt.vlines(bootresult.mean(),0.,250)\n",
    "plt.vlines(a.mean(),0,250)\n",
    "h1 = a.mean() - bootresult.std()\n",
    "h2 = a.mean() + bootresult.std()\n",
    "plt.hlines(100,h1,h2)"
   ]
  },
  {
   "cell_type": "code",
   "execution_count": 10,
   "metadata": {
    "ExecuteTime": {
     "end_time": "2018-09-09T15:41:02.266281Z",
     "start_time": "2018-09-09T15:41:02.245956Z"
    }
   },
   "outputs": [],
   "source": [
    "data = np.genfromtxt(\"../GlobClus_prop.dat\",unpack=True,skip_header=1)"
   ]
  },
  {
   "cell_type": "code",
   "execution_count": 20,
   "metadata": {
    "ExecuteTime": {
     "end_time": "2018-09-09T15:43:57.304267Z",
     "start_time": "2018-09-09T15:43:57.294922Z"
    }
   },
   "outputs": [
    {
     "name": "stdout",
     "output_type": "stream",
     "text": [
      "148 12.165525060596439 -7.027027027027027\n"
     ]
    }
   ],
   "source": [
    "mag = data[6]\n",
    "indx = ~np.isnan(mag)\n",
    "mag = mag[indx]\n",
    "print mag.size,np.sqrt(mag.size),mag.mean()"
   ]
  },
  {
   "cell_type": "code",
   "execution_count": 21,
   "metadata": {
    "ExecuteTime": {
     "end_time": "2018-09-09T15:44:02.605037Z",
     "start_time": "2018-09-09T15:44:02.207569Z"
    }
   },
   "outputs": [
    {
     "data": {
      "text/plain": [
       "(array([ 2., 11., 16., 26., 39., 23., 13.,  9.,  5.,  2.,  1.,  1.]),\n",
       " array([-10.4  ,  -9.675,  -8.95 ,  -8.225,  -7.5  ,  -6.775,  -6.05 ,\n",
       "         -5.325,  -4.6  ,  -3.875,  -3.15 ,  -2.425,  -1.7  ]),\n",
       " <a list of 12 Patch objects>)"
      ]
     },
     "execution_count": 21,
     "metadata": {},
     "output_type": "execute_result"
    },
    {
     "data": {
      "image/png": "[encoded data removed]",
      "text/plain": [
       "<matplotlib.figure.Figure at 0x7f34b1be8790>"
      ]
     },
     "metadata": {},
     "output_type": "display_data"
    }
   ],
   "source": [
    "plt.hist(mag,bins=int(np.sqrt(mag.size)))"
   ]
  },
  {
   "cell_type": "code",
   "execution_count": 35,
   "metadata": {
    "ExecuteTime": {
     "end_time": "2018-09-09T15:53:58.470336Z",
     "start_time": "2018-09-09T15:53:58.158159Z"
    }
   },
   "outputs": [
    {
     "data": {
      "text/plain": [
       "[<matplotlib.lines.Line2D at 0x7f34a7df07d0>]"
      ]
     },
     "execution_count": 35,
     "metadata": {},
     "output_type": "execute_result"
    },
    {
     "data": {
      "image/png": "[encoded data removed]",
      "text/plain": [
       "<matplotlib.figure.Figure at 0x7f34b0ddcad0>"
      ]
     },
     "metadata": {},
     "output_type": "display_data"
    }
   ],
   "source": [
    "with NumpyRNGContext(1):\n",
    "    bootresult = bootstrap(mag, 100, bootfunc=np.mean)\n",
    "\n",
    "plt.hist(bootresult,bins=int(np.sqrt(bootresult.size)),normed=True)\n",
    "\n",
    "x = np.linspace(bootresult.min(),bootresult.max(),100)\n",
    "\n",
    "import scipy.stats as st\n",
    "y = st.norm.pdf(x,bootresult.mean(),bootresult.std())\n",
    "plt.plot(x,y)"
   ]
  },
  {
   "cell_type": "code",
   "execution_count": null,
   "metadata": {},
   "outputs": [],
   "source": []
  }
 ],
 "metadata": {
  "kernelspec": {
   "display_name": "Python 2",
   "language": "python",
   "name": "python2"
  },
  "language_info": {
   "codemirror_mode": {
    "name": "ipython",
    "version": 2
   },
   "file_extension": ".py",
   "mimetype": "text/x-python",
   "name": "python",
   "nbconvert_exporter": "python",
   "pygments_lexer": "ipython2",
   "version": "2.7.14"
  }
 },
 "nbformat": 4,
 "nbformat_minor": 2
}
