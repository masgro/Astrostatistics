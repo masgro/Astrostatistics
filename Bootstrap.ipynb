{
 "cells": [
  {
   "cell_type": "code",
   "execution_count": 1,
   "metadata": {
    "ExecuteTime": {
     "end_time": "2018-09-09T15:38:16.330045Z",
     "start_time": "2018-09-09T15:38:15.797382Z"
    }
   },
   "outputs": [],
   "source": [
    "%matplotlib inline\n",
    "import matplotlib.pyplot as plt\n",
    "import numpy as np"
   ]
  },
  {
   "cell_type": "code",
   "execution_count": 2,
   "metadata": {
    "ExecuteTime": {
     "end_time": "2018-09-09T15:38:16.519220Z",
     "start_time": "2018-09-09T15:38:16.508563Z"
    }
   },
   "outputs": [],
   "source": [
    "x = np.random.rand(30)*5. + 1\n",
    "y = x*4.3 + 7.8 + np.random.randn(30)*1.3"
   ]
  },
  {
   "cell_type": "code",
   "execution_count": 3,
   "metadata": {
    "ExecuteTime": {
     "end_time": "2018-09-09T15:38:17.422123Z",
     "start_time": "2018-09-09T15:38:17.114022Z"
    }
   },
   "outputs": [
    {
     "data": {
      "text/plain": [
       "<matplotlib.collections.PathCollection at 0x7fcf1d1afb90>"
      ]
     },
     "execution_count": 3,
     "metadata": {},
     "output_type": "execute_result"
    },
    {
     "data": {
      "image/png": "[encoded data removed]",
      "text/plain": [
       "<matplotlib.figure.Figure at 0x7fcf1f4bddd0>"
      ]
     },
     "metadata": {},
     "output_type": "display_data"
    }
   ],
   "source": [
    "plt.scatter(x,y)"
   ]
  },
  {
   "cell_type": "code",
   "execution_count": 4,
   "metadata": {
    "ExecuteTime": {
     "end_time": "2018-09-09T15:38:20.722000Z",
     "start_time": "2018-09-09T15:38:20.701697Z"
    }
   },
   "outputs": [],
   "source": [
    "def pendiente(x,y):\n",
    "    N = len(x)\n",
    "    Sx = x.sum()\n",
    "    Sxx = (x**2).sum()\n",
    "    Sy = y.sum()\n",
    "    Sxy = (x*y).sum()\n",
    "    return ((N*Sxy - Sx*Sy)/(N*Sxx-Sx*Sx))\n",
    "    \n",
    "\n",
    "def ordenada(x,y):\n",
    "    N = len(x)\n",
    "    Sx = x.sum()\n",
    "    Sxx = (x**2).sum()\n",
    "    Sy = y.sum()\n",
    "    Sxy = (x*y).sum()\n",
    "    return ((Sxx*Sy - Sx*Sxy)/(N*Sxx-Sx*Sx))"
   ]
  },
  {
   "cell_type": "code",
   "execution_count": 5,
   "metadata": {
    "ExecuteTime": {
     "end_time": "2018-09-09T15:38:23.677193Z",
     "start_time": "2018-09-09T15:38:23.665013Z"
    }
   },
   "outputs": [
    {
     "name": "stdout",
     "output_type": "stream",
     "text": [
      "4.529932434756995\n"
     ]
    }
   ],
   "source": [
    "print pendiente(x,y)"
   ]
  },
  {
   "cell_type": "code",
   "execution_count": 6,
   "metadata": {
    "ExecuteTime": {
     "end_time": "2018-09-09T15:38:24.144456Z",
     "start_time": "2018-09-09T15:38:24.136180Z"
    }
   },
   "outputs": [
    {
     "name": "stdout",
     "output_type": "stream",
     "text": [
      "7.0559447201885455\n"
     ]
    }
   ],
   "source": [
    "print ordenada(x,y)"
   ]
  },
  {
   "cell_type": "code",
   "execution_count": 7,
   "metadata": {
    "ExecuteTime": {
     "end_time": "2018-09-09T15:38:24.886015Z",
     "start_time": "2018-09-09T15:38:24.544680Z"
    }
   },
   "outputs": [
    {
     "data": {
      "text/plain": [
       "[<matplotlib.lines.Line2D at 0x7fcf1d1d1b90>]"
      ]
     },
     "execution_count": 7,
     "metadata": {},
     "output_type": "execute_result"
    },
    {
     "data": {
      "image/png": "[encoded data removed]",
      "text/plain": [
       "<matplotlib.figure.Figure at 0x7fcf1d1d1f50>"
      ]
     },
     "metadata": {},
     "output_type": "display_data"
    }
   ],
   "source": [
    "_y = x*pendiente(x,y) + ordenada(x,y)\n",
    "\n",
    "plt.scatter(x,y)\n",
    "plt.plot(x,_y)"
   ]
  },
  {
   "cell_type": "code",
   "execution_count": 8,
   "metadata": {
    "ExecuteTime": {
     "end_time": "2018-09-09T15:38:29.302730Z",
     "start_time": "2018-09-09T15:38:27.940070Z"
    }
   },
   "outputs": [],
   "source": [
    "indx = np.arange(len(x))\n",
    "N = 10000\n",
    "\n",
    "As = np.array([])\n",
    "Bs = np.array([])\n",
    "for i in range(N):\n",
    "    j = np.random.choice(indx,size=30)\n",
    "    _x = x[j]\n",
    "    _y = y[j]\n",
    "  \n",
    "    As = np.append(As,pendiente(_x,_y))\n",
    "    Bs = np.append(Bs,ordenada(_x,_y))"
   ]
  },
  {
   "cell_type": "code",
   "execution_count": 9,
   "metadata": {
    "ExecuteTime": {
     "end_time": "2018-09-09T15:38:30.039105Z",
     "start_time": "2018-09-09T15:38:29.309126Z"
    }
   },
   "outputs": [
    {
     "name": "stdout",
     "output_type": "stream",
     "text": [
      "4.528564966918981 0.38272339802254324\n"
     ]
    },
    {
     "data": {
      "image/png": "[encoded data removed]",
      "text/plain": [
       "<matplotlib.figure.Figure at 0x7fcf1d069cd0>"
      ]
     },
     "metadata": {},
     "output_type": "display_data"
    }
   ],
   "source": [
    "plt.hist(As,bins=100)\n",
    "print As.mean(), np.sqrt(As.std())"
   ]
  },
  {
   "cell_type": "code",
   "execution_count": 10,
   "metadata": {
    "ExecuteTime": {
     "end_time": "2018-09-09T15:38:33.844488Z",
     "start_time": "2018-09-09T15:38:33.134282Z"
    }
   },
   "outputs": [
    {
     "name": "stdout",
     "output_type": "stream",
     "text": [
      "7.0633123266045095 0.768940780806559\n"
     ]
    },
    {
     "data": {
      "image/png": "[encoded data removed]",
      "text/plain": [
       "<matplotlib.figure.Figure at 0x7fcf1cd71710>"
      ]
     },
     "metadata": {},
     "output_type": "display_data"
    }
   ],
   "source": [
    "plt.hist(Bs,bins=100)\n",
    "print Bs.mean(), np.sqrt(Bs.std())"
   ]
  },
  {
   "cell_type": "code",
   "execution_count": null,
   "metadata": {},
   "outputs": [],
   "source": [
    "\n",
    "\n"
   ]
  }
 ],
 "metadata": {
  "kernelspec": {
   "display_name": "Python 2",
   "language": "python",
   "name": "python2"
  },
  "language_info": {
   "codemirror_mode": {
    "name": "ipython",
    "version": 2
   },
   "file_extension": ".py",
   "mimetype": "text/x-python",
   "name": "python",
   "nbconvert_exporter": "python",
   "pygments_lexer": "ipython2",
   "version": "2.7.14"
  },
  "toc": {
   "base_numbering": 1,
   "nav_menu": {},
   "number_sections": true,
   "sideBar": true,
   "skip_h1_title": false,
   "title_cell": "Table of Contents",
   "title_sidebar": "Contents",
   "toc_cell": false,
   "toc_position": {},
   "toc_section_display": true,
   "toc_window_display": false
  }
 },
 "nbformat": 4,
 "nbformat_minor": 2
}
