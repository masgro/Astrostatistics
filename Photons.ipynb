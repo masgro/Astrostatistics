{
 "cells": [
  {
   "cell_type": "markdown",
   "metadata": {},
   "source": [
    "http://www-star.st-and.ac.uk/~kw25/research/montecarlo/book.pdf\n",
    "\n",
    "http://www-star.st-and.ac.uk/~kw25/research/montecarlo/slab/slab.html"
   ]
  },
  {
   "cell_type": "code",
   "execution_count": 1,
   "metadata": {
    "ExecuteTime": {
     "end_time": "2018-09-05T23:52:25.260482Z",
     "start_time": "2018-09-05T23:52:24.765137Z"
    }
   },
   "outputs": [],
   "source": [
    "import numpy as np\n",
    "import matplotlib.pyplot as plt"
   ]
  },
  {
   "cell_type": "code",
   "execution_count": 82,
   "metadata": {
    "ExecuteTime": {
     "end_time": "2018-09-06T01:48:38.197417Z",
     "start_time": "2018-09-06T01:48:38.189467Z"
    }
   },
   "outputs": [],
   "source": [
    "Params={\"nphotons\" : 1000000,\n",
    "        \"mubins\" : 10,\n",
    "        \"nlevels\" : 10,\n",
    "        \"taumax\" : 10.,\n",
    "        \"albedo\" : 0.8}"
   ]
  },
  {
   "cell_type": "code",
   "execution_count": 83,
   "metadata": {
    "ExecuteTime": {
     "end_time": "2018-09-06T01:48:38.802717Z",
     "start_time": "2018-09-06T01:48:38.618571Z"
    }
   },
   "outputs": [],
   "source": [
    "class path:\n",
    "    \n",
    "    def __init__(self,params):\n",
    "        ran = np.random.rand(2)\n",
    "        \n",
    "        costheta = np.sqrt(ran[0])\n",
    "        sintheta = np.sqrt(1. - costheta*costheta)\n",
    "        \n",
    "        phi = 2.0*np.pi*ran[1]\n",
    "        cosphi = np.cos(phi)\n",
    "        sinphi = np.sin(phi)\n",
    "        \n",
    "        self.angles = {\"cosphi\" : cosphi, \n",
    "                       \"sinphi\" : sinphi, \n",
    "                       \"costheta\" : costheta, \n",
    "                       \"sintheta\" : sintheta}\n",
    "        \n",
    "        self.tau = self.optical_depth(params)\n",
    "        \n",
    "        self.pos = {\"x\" : self.tau*cosphi*sintheta,\n",
    "                    \"y\" : self.tau*sinphi*sintheta, \n",
    "                    \"z\" : self.tau*costheta}\n",
    "        \n",
    "        self.level_1 = 0.0\n",
    "        self.level_2 = self.convert_z_to_level(self.pos[\"z\"],params)\n",
    "        \n",
    "        self.absorbed = False\n",
    "        \n",
    "        self.energy = np.zeros(params[\"mubins\"])\n",
    "        self.erri = np.zeros(params[\"mubins\"])\n",
    "    \n",
    "    def convert_z_to_level(self,z,params):\n",
    "        l = int(z*float(params[\"nlevels\"]))\n",
    "        return 1\n",
    "    \n",
    "    def optical_depth(self,params):\n",
    "        t = -np.log(np.random.rand())\n",
    "        t /= params[\"taumax\"]\n",
    "        return t\n",
    "    \n",
    "    def distance(self):\n",
    "        return np.sqrt(self.pos[\"x\"]**2+self.pos[\"y\"]**2+self.pos[\"z\"]**2)\n",
    "    \n",
    "    def update(self,params):\n",
    "        ran = np.random.rand(2)\n",
    "        \n",
    "        costheta = 2.0*ran[0] - 1.0\n",
    "        sintheta = np.sqrt(1. - costheta*costheta)\n",
    "        \n",
    "        phi = 2.0*np.pi*ran[1]\n",
    "        cosphi = np.cos(phi)\n",
    "        sinphi = np.sin(phi)\n",
    "        \n",
    "        self.tau = self.optical_depth(params)\n",
    "        \n",
    "        self.pos[\"x\"] += self.tau*cosphi*sintheta\n",
    "        self.pos[\"y\"] += self.tau*sinphi*sintheta\n",
    "        self.pos[\"z\"] += self.tau*costheta\n",
    "        \n",
    "        self.level_1 = self.level_2\n",
    "        self.level_2 = self.convert_z_to_level(self.pos[\"z\"],params)\n",
    "        \n",
    "    def absorption(self,params):\n",
    "        test = True\n",
    "        if(np.random.rand() < params[\"albedo\"]):\n",
    "            test = False\n",
    "        else:\n",
    "            self.absorbed = True\n",
    "        return test\n",
    "        \n",
    "    def evolve(self,params):\n",
    "        while (self.pos[\"z\"] >= 0.0) and (self.pos[\"z\"] <= 1.0):\n",
    "            self.update(params)\n",
    "            if (self.pos[\"z\"] < 0.0) or (self.pos[\"z\"] > 1.0) or self.absorption(params):\n",
    "                break\n",
    "            self.compute_energy(params)\n",
    "            \n",
    "    def compute_energy(self,params):\n",
    "        l=int(params[\"mubins\"]*self.angles[\"costheta\"])\n",
    "        self.erri[l] += 1\n",
    "        self.energy[l] += 1"
   ]
  },
  {
   "cell_type": "code",
   "execution_count": 84,
   "metadata": {
    "ExecuteTime": {
     "end_time": "2018-09-06T01:48:38.849749Z",
     "start_time": "2018-09-06T01:48:38.841938Z"
    }
   },
   "outputs": [],
   "source": [
    "def photon(params):\n",
    "    p = path(params)\n",
    "    p.evolve(params)\n",
    "    return p.energy"
   ]
  },
  {
   "cell_type": "code",
   "execution_count": 85,
   "metadata": {
    "ExecuteTime": {
     "end_time": "2018-09-06T01:51:00.896367Z",
     "start_time": "2018-09-06T01:48:39.033075Z"
    }
   },
   "outputs": [],
   "source": [
    "s = Params\n",
    "\n",
    "energy = np.zeros(s[\"mubins\"])\n",
    "for i in range(s[\"nphotons\"]):\n",
    "    energy += photon(s)"
   ]
  },
  {
   "cell_type": "code",
   "execution_count": 86,
   "metadata": {
    "ExecuteTime": {
     "end_time": "2018-09-06T01:51:01.412591Z",
     "start_time": "2018-09-06T01:51:00.903043Z"
    }
   },
   "outputs": [
    {
     "data": {
      "text/plain": [
       "[<matplotlib.lines.Line2D at 0x7f7491c5cad0>]"
      ]
     },
     "execution_count": 86,
     "metadata": {},
     "output_type": "execute_result"
    },
    {
     "data": {
      "image/png": "[encoded data removed]",
      "text/plain": [
       "<matplotlib.figure.Figure at 0x7f7491d78610>"
      ]
     },
     "metadata": {},
     "output_type": "display_data"
    }
   ],
   "source": [
    "plt.plot(energy/float(Params[\"nphotons\"]))"
   ]
  },
  {
   "cell_type": "code",
   "execution_count": null,
   "metadata": {},
   "outputs": [],
   "source": []
  }
 ],
 "metadata": {
  "kernelspec": {
   "display_name": "Python 2",
   "language": "python",
   "name": "python2"
  },
  "language_info": {
   "codemirror_mode": {
    "name": "ipython",
    "version": 2
   },
   "file_extension": ".py",
   "mimetype": "text/x-python",
   "name": "python",
   "nbconvert_exporter": "python",
   "pygments_lexer": "ipython2",
   "version": "2.7.14"
  }
 },
 "nbformat": 4,
 "nbformat_minor": 2
}
