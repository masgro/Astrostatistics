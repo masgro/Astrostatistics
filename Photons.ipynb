{
 "cells": [
  {
   "cell_type": "markdown",
   "metadata": {},
   "source": [
    "http://www-star.st-and.ac.uk/~kw25/research/montecarlo/book.pdf\n"
   ]
  },
  {
   "cell_type": "code",
   "execution_count": 7,
   "metadata": {
    "ExecuteTime": {
     "end_time": "2018-09-02T13:37:38.563670Z",
     "start_time": "2018-09-02T13:37:38.548612Z"
    }
   },
   "outputs": [],
   "source": [
    "import numpy as np\n",
    "import matplotlib.pyplot as plt"
   ]
  },
  {
   "cell_type": "code",
   "execution_count": 8,
   "metadata": {
    "ExecuteTime": {
     "end_time": "2018-09-02T13:37:39.156563Z",
     "start_time": "2018-09-02T13:37:39.149221Z"
    }
   },
   "outputs": [],
   "source": [
    "Params={\"nphotons\" : 10,\n",
    "        \"mubins\" : 10,\n",
    "        \"nlevel\" : 10,\n",
    "        \"taumax\" : 10.,\n",
    "        \"albedo\" : 1.}"
   ]
  },
  {
   "cell_type": "code",
   "execution_count": 47,
   "metadata": {
    "ExecuteTime": {
     "end_time": "2018-09-03T02:49:38.126755Z",
     "start_time": "2018-09-03T02:49:38.067476Z"
    }
   },
   "outputs": [],
   "source": [
    "class path:\n",
    "    \n",
    "    def __init__(self,params):\n",
    "        ran = np.random.rand(2)\n",
    "        \n",
    "        costheta = np.sqrt(ran[0])\n",
    "        sintheta = np.sqrt(1. - costheta*costheta)\n",
    "        \n",
    "        phi = 2.0*np.pi*ran[1]\n",
    "        cosphi = np.cos(phi)\n",
    "        sinphi = np.sin(phi)\n",
    "        \n",
    "        self.pos = {\"x\" : 0.0, \"y\" : 0.0, \"z\" : 0.0}\n",
    "        self.angles = {\"cosphi\" : cosphi, \"sinphi\" : sinphi, \"costheta\" : costheta, \"sintheta\" : sintheta}\n",
    "        self.tau = self.optical_depth(params)\n",
    "    \n",
    "    def optical_depth(self,params):\n",
    "        t = -np.log(np.random.rand())\n",
    "        t /= params[\"taumax\"]\n",
    "        return t\n",
    "    \n",
    "    def distance(self):\n",
    "        return np.sqrt(self.pos[\"x\"]**2+self.pos[\"y\"]**2+self.pos[\"z\"]**2)\n",
    "    \n",
    "    def update(self):\n",
    "        ran = np.random.rand(2)\n",
    "        \n",
    "        costheta = 2.0*ran[0] - 1.0\n",
    "        sintheta = np.sqrt(1. - costheta*costheta)\n",
    "        \n",
    "        phi = 2.0*np.pi*ran[1]\n",
    "        cosphi = np.cos(phi)\n",
    "        sinphi = np.sin(phi)\n",
    "        \n",
    "        self.pos[\"x\"] += cosphi*sintheta\n",
    "        self.pos[\"y\"] += sinphi*sintheta\n",
    "        self.pos[\"z\"] += costheta\n",
    "        \n",
    "    def evolve(self,params):\n",
    "        while (self.pos[\"z\"] >= 0.0) & (self.pos[\"z\"] <= 1.0):\n",
    "            self.update()\n",
    "            print \"%d %.3f %.3f %.3f %.3f\" % (i,self.pos[\"x\"],self.pos[\"y\"],self.pos[\"z\"],self.distance())"
   ]
  },
  {
   "cell_type": "code",
   "execution_count": 48,
   "metadata": {
    "ExecuteTime": {
     "end_time": "2018-09-03T02:49:40.104551Z",
     "start_time": "2018-09-03T02:49:40.097643Z"
    }
   },
   "outputs": [],
   "source": [
    "def photon(params):\n",
    "    p = path(params)\n",
    "    p.evolve(params)"
   ]
  },
  {
   "cell_type": "code",
   "execution_count": 49,
   "metadata": {
    "ExecuteTime": {
     "end_time": "2018-09-03T02:49:41.973612Z",
     "start_time": "2018-09-03T02:49:41.956198Z"
    }
   },
   "outputs": [
    {
     "name": "stdout",
     "output_type": "stream",
     "text": [
      "Photon : 0\n",
      "0 0.241 0.330 -0.913 1.000\n",
      "Photon : 1\n",
      "1 -0.070 0.732 -0.677 1.000\n",
      "Photon : 2\n",
      "2 0.877 -0.363 -0.315 1.000\n"
     ]
    }
   ],
   "source": [
    "s = Params\n",
    "\n",
    "for i in range(s[\"nphotons\"]):\n",
    "    print \"Photon :\", i\n",
    "    photon(s)"
   ]
  },
  {
   "cell_type": "code",
   "execution_count": 26,
   "metadata": {
    "ExecuteTime": {
     "end_time": "2018-09-02T04:19:55.448887Z",
     "start_time": "2018-09-02T04:19:55.421089Z"
    }
   },
   "outputs": [
    {
     "ename": "NameError",
     "evalue": "name 'p' is not defined",
     "output_type": "error",
     "traceback": [
      "\u001b[0;31m---------------------------------------------------------------------------\u001b[0m",
      "\u001b[0;31mNameError\u001b[0m                                 Traceback (most recent call last)",
      "\u001b[0;32m<ipython-input-26-f2cb79f180dc>\u001b[0m in \u001b[0;36m<module>\u001b[0;34m()\u001b[0m\n\u001b[0;32m----> 1\u001b[0;31m \u001b[0mp\u001b[0m\u001b[0;34m.\u001b[0m\u001b[0mpos\u001b[0m\u001b[0;34m\u001b[0m\u001b[0m\n\u001b[0m",
      "\u001b[0;31mNameError\u001b[0m: name 'p' is not defined"
     ]
    }
   ],
   "source": [
    "p.pos"
   ]
  },
  {
   "cell_type": "code",
   "execution_count": 32,
   "metadata": {
    "ExecuteTime": {
     "end_time": "2018-09-03T02:38:00.801645Z",
     "start_time": "2018-09-03T02:38:00.795884Z"
    }
   },
   "outputs": [],
   "source": [
    "a = {\"lala\" : 2.0}"
   ]
  },
  {
   "cell_type": "code",
   "execution_count": 33,
   "metadata": {
    "ExecuteTime": {
     "end_time": "2018-09-03T02:38:02.472058Z",
     "start_time": "2018-09-03T02:38:02.447526Z"
    }
   },
   "outputs": [
    {
     "data": {
      "text/plain": [
       "{'lala': 2.0}"
      ]
     },
     "execution_count": 33,
     "metadata": {},
     "output_type": "execute_result"
    }
   ],
   "source": [
    "a"
   ]
  },
  {
   "cell_type": "code",
   "execution_count": 36,
   "metadata": {
    "ExecuteTime": {
     "end_time": "2018-09-03T02:38:20.044382Z",
     "start_time": "2018-09-03T02:38:20.038701Z"
    }
   },
   "outputs": [],
   "source": [
    "a[\"lala\"] += 3.0"
   ]
  },
  {
   "cell_type": "code",
   "execution_count": 37,
   "metadata": {
    "ExecuteTime": {
     "end_time": "2018-09-03T02:38:23.655699Z",
     "start_time": "2018-09-03T02:38:23.646717Z"
    }
   },
   "outputs": [
    {
     "data": {
      "text/plain": [
       "{'lala': 5.0}"
      ]
     },
     "execution_count": 37,
     "metadata": {},
     "output_type": "execute_result"
    }
   ],
   "source": [
    "a"
   ]
  },
  {
   "cell_type": "code",
   "execution_count": null,
   "metadata": {},
   "outputs": [],
   "source": []
  }
 ],
 "metadata": {
  "kernelspec": {
   "display_name": "Python 2",
   "language": "python",
   "name": "python2"
  },
  "language_info": {
   "codemirror_mode": {
    "name": "ipython",
    "version": 2
   },
   "file_extension": ".py",
   "mimetype": "text/x-python",
   "name": "python",
   "nbconvert_exporter": "python",
   "pygments_lexer": "ipython2",
   "version": "2.7.14"
  }
 },
 "nbformat": 4,
 "nbformat_minor": 2
}
