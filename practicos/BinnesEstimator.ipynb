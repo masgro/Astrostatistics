{
 "cells": [
  {
   "cell_type": "code",
   "execution_count": 21,
   "metadata": {
    "ExecuteTime": {
     "end_time": "2018-09-22T03:34:47.464616Z",
     "start_time": "2018-09-22T03:34:47.442679Z"
    }
   },
   "outputs": [],
   "source": [
    "from numpy import histogram,log,zeros,sum\n",
    "from scipy.special import gammaln\n",
    "\n",
    "def optBINS(data,minM,maxM):\n",
    "    \n",
    "    #if (data.len > 2) or (size(data,1) > 1):\n",
    "    #    error('data dimensions must be (1,N)')\n",
    "        \n",
    "    N = len(data)\n",
    "    # Simply loop through the different numbers of bins\n",
    "    # and compute the posterior probability for each.\n",
    "    logp = -1.0e26\n",
    "    bins = 0\n",
    "    ll = zeros(maxM+1)\n",
    "    for M in range(minM,maxM): \n",
    "        h = histogram(data,M)[0] # Bin the data (equal width bins here) \n",
    "        part1 = N*log(M) + gammaln(M/2.0) - gammaln(N + M/2.0)\n",
    "        part2 = -M*gammaln(0.5) + np.sum(gammaln(h + 0.5))\n",
    "        _logp = part1 + part2\n",
    "        ll[M] = _logp\n",
    "        if _logp > logp:\n",
    "            logp = _logp\n",
    "            bins = M\n",
    "    \n",
    "    return bins,logp,ll"
   ]
  },
  {
   "cell_type": "code",
   "execution_count": 22,
   "metadata": {
    "ExecuteTime": {
     "end_time": "2018-09-22T03:34:51.796687Z",
     "start_time": "2018-09-22T03:34:51.789692Z"
    }
   },
   "outputs": [],
   "source": [
    "import numpy as np\n",
    "import matplotlib.pyplot as plt"
   ]
  },
  {
   "cell_type": "code",
   "execution_count": 27,
   "metadata": {
    "ExecuteTime": {
     "end_time": "2018-09-22T03:35:05.240899Z",
     "start_time": "2018-09-22T03:35:05.233152Z"
    }
   },
   "outputs": [],
   "source": [
    "a = np.random.randn(10000)"
   ]
  },
  {
   "cell_type": "code",
   "execution_count": 28,
   "metadata": {
    "ExecuteTime": {
     "end_time": "2018-09-22T03:35:05.699262Z",
     "start_time": "2018-09-22T03:35:05.634955Z"
    }
   },
   "outputs": [
    {
     "name": "stdout",
     "output_type": "stream",
     "text": [
      "1 100\n"
     ]
    }
   ],
   "source": [
    "Mmin = 1\n",
    "Mmax = int(np.sqrt(len(a)))\n",
    "print Mmin,Mmax\n",
    "bins, logp, ll = optBINS(a,Mmin,100)"
   ]
  },
  {
   "cell_type": "code",
   "execution_count": 29,
   "metadata": {
    "ExecuteTime": {
     "end_time": "2018-09-22T03:35:05.968458Z",
     "start_time": "2018-09-22T03:35:05.955317Z"
    }
   },
   "outputs": [
    {
     "name": "stdout",
     "output_type": "stream",
     "text": [
      "25 6661.762190752743\n"
     ]
    }
   ],
   "source": [
    "print bins,logp"
   ]
  },
  {
   "cell_type": "code",
   "execution_count": 30,
   "metadata": {
    "ExecuteTime": {
     "end_time": "2018-09-22T03:35:06.543748Z",
     "start_time": "2018-09-22T03:35:06.287254Z"
    }
   },
   "outputs": [
    {
     "data": {
      "text/plain": [
       "[<matplotlib.lines.Line2D at 0x7fb8f8574610>]"
      ]
     },
     "execution_count": 30,
     "metadata": {},
     "output_type": "execute_result"
    },
    {
     "data": {
      "image/png": "[encoded data removed]",
      "text/plain": [
       "<matplotlib.figure.Figure at 0x7fb8f85741d0>"
      ]
     },
     "metadata": {},
     "output_type": "display_data"
    }
   ],
   "source": [
    "plt.plot(ll)"
   ]
  },
  {
   "cell_type": "code",
   "execution_count": 33,
   "metadata": {
    "ExecuteTime": {
     "end_time": "2018-09-22T03:54:42.169841Z",
     "start_time": "2018-09-22T03:54:41.410876Z"
    }
   },
   "outputs": [
    {
     "data": {
      "image/png": "[encoded data removed]",
      "text/plain": [
       "<matplotlib.figure.Figure at 0x7fb8f7cd8a10>"
      ]
     },
     "metadata": {},
     "output_type": "display_data"
    }
   ],
   "source": [
    "h1 = plt.hist(a,bins=bins,alpha=0.4,normed=True)\n",
    "h2 = plt.hist(a,bins=100,alpha=0.2,normed=True)"
   ]
  },
  {
   "cell_type": "code",
   "execution_count": null,
   "metadata": {},
   "outputs": [],
   "source": []
  },
  {
   "cell_type": "code",
   "execution_count": null,
   "metadata": {},
   "outputs": [],
   "source": []
  }
 ],
 "metadata": {
  "kernelspec": {
   "display_name": "Python 2",
   "language": "python",
   "name": "python2"
  },
  "language_info": {
   "codemirror_mode": {
    "name": "ipython",
    "version": 2
   },
   "file_extension": ".py",
   "mimetype": "text/x-python",
   "name": "python",
   "nbconvert_exporter": "python",
   "pygments_lexer": "ipython2",
   "version": "2.7.14"
  }
 },
 "nbformat": 4,
 "nbformat_minor": 2
}
