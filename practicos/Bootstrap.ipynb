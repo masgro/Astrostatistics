{
 "cells": [
  {
   "cell_type": "code",
   "execution_count": 71,
   "metadata": {
    "ExecuteTime": {
     "end_time": "2018-09-22T01:48:53.434790Z",
     "start_time": "2018-09-22T01:48:53.425431Z"
    }
   },
   "outputs": [],
   "source": [
    "%matplotlib inline\n",
    "import matplotlib.pyplot as plt\n",
    "import numpy as np\n",
    "import scipy.stats as st"
   ]
  },
  {
   "cell_type": "markdown",
   "metadata": {},
   "source": [
    "# Muestra inicial\n",
    "\n",
    "En general uno tiene una sola muestra de la población que quiere estudiar. Consideremos el siguiente ejemplo, donde definimos la **muestra** como un conjunto de 20 números extraídos de una distribución gaussiana."
   ]
  },
  {
   "cell_type": "code",
   "execution_count": 72,
   "metadata": {
    "ExecuteTime": {
     "end_time": "2018-09-22T01:48:55.333034Z",
     "start_time": "2018-09-22T01:48:55.315755Z"
    }
   },
   "outputs": [],
   "source": [
    "n = 20\n",
    "mean = 2.0\n",
    "sigma = 1.5\n",
    "muestra = np.random.normal(loc=mean,scale=sigma,size=n)"
   ]
  },
  {
   "cell_type": "markdown",
   "metadata": {},
   "source": [
    "Y supongamos que el estadístico que queremos calcular es la **media**"
   ]
  },
  {
   "cell_type": "code",
   "execution_count": 73,
   "metadata": {
    "ExecuteTime": {
     "end_time": "2018-09-22T01:48:59.219629Z",
     "start_time": "2018-09-22T01:48:57.922086Z"
    }
   },
   "outputs": [
    {
     "name": "stdout",
     "output_type": "stream",
     "text": [
      "Media:  2.18994574974893\n"
     ]
    },
    {
     "data": {
      "image/png": "[encoded data removed]",
      "text/plain": [
       "<matplotlib.figure.Figure at 0x7f7a319725d0>"
      ]
     },
     "metadata": {},
     "output_type": "display_data"
    }
   ],
   "source": [
    "plt.hist(muestra,bins=int(np.sqrt(n)))\n",
    "print \"Media: \", muestra.mean()"
   ]
  },
  {
   "cell_type": "markdown",
   "metadata": {},
   "source": [
    "Esta estimación de la **media** no coincidirá con la **media real** de la población, pues fue calculada con solo una muestra. La pregunta entonces es: ¿cómo podemos calcular el intevalo de confianza de dicha estimación?\n",
    "\n",
    "Es aquí cuando el método de **bootstrap** viene a nuestro rescate. En sintésis, el método consiste en tomar **m** remuestreos de igual tamaño que la muestra original y aplicar el estadístico a cada uno de esos remuestreos. En cada uno de estos remuestreos se debe permitir el reemplazo, es decir, un elemento de la muestra original puede ser tomado en el remuestreo más de una vez."
   ]
  },
  {
   "cell_type": "code",
   "execution_count": 74,
   "metadata": {
    "ExecuteTime": {
     "end_time": "2018-09-22T01:49:01.882544Z",
     "start_time": "2018-09-22T01:49:01.871891Z"
    }
   },
   "outputs": [],
   "source": [
    "def bootstrap(x,func,m=1000):\n",
    "    y = np.zeros(m)\n",
    "    for i in range(m):\n",
    "        _x = np.random.choice(x,size=len(x))\n",
    "        y[i] = func(_x)\n",
    "    return y"
   ]
  },
  {
   "cell_type": "code",
   "execution_count": 78,
   "metadata": {
    "ExecuteTime": {
     "end_time": "2018-09-22T01:49:31.780394Z",
     "start_time": "2018-09-22T01:49:31.268818Z"
    }
   },
   "outputs": [],
   "source": [
    "m = 10000\n",
    "boot = bootstrap(muestra,np.mean,m=m)"
   ]
  },
  {
   "cell_type": "code",
   "execution_count": 79,
   "metadata": {
    "ExecuteTime": {
     "end_time": "2018-09-22T01:49:33.959186Z",
     "start_time": "2018-09-22T01:49:33.300971Z"
    }
   },
   "outputs": [
    {
     "name": "stdout",
     "output_type": "stream",
     "text": [
      "2.1973360456826967 0.37072154274457503\n"
     ]
    },
    {
     "data": {
      "image/png": "[encoded data removed]",
      "text/plain": [
       "<matplotlib.figure.Figure at 0x7f7a30ac6ed0>"
      ]
     },
     "metadata": {},
     "output_type": "display_data"
    }
   ],
   "source": [
    "plt.hist(boot,normed=True,bins=int(np.sqrt(m)))\n",
    "print boot.mean(),boot.std()"
   ]
  },
  {
   "cell_type": "code",
   "execution_count": 80,
   "metadata": {
    "ExecuteTime": {
     "end_time": "2018-09-22T01:49:37.943795Z",
     "start_time": "2018-09-22T01:49:37.202500Z"
    }
   },
   "outputs": [
    {
     "data": {
      "text/plain": [
       "<matplotlib.legend.Legend at 0x7f7a3178a290>"
      ]
     },
     "execution_count": 80,
     "metadata": {},
     "output_type": "execute_result"
    },
    {
     "data": {
      "image/png": "[encoded data removed]",
      "text/plain": [
       "<matplotlib.figure.Figure at 0x7f7a313fa210>"
      ]
     },
     "metadata": {},
     "output_type": "display_data"
    }
   ],
   "source": [
    "z = (muestra.mean() - boot)/(sigma/np.sqrt(n))\n",
    "\n",
    "plt.hist(z,normed=True,bins=int(np.sqrt(m)))\n",
    "\n",
    "x = np.linspace(-6.0,6.0,100)\n",
    "y = st.norm.pdf(x,loc=0.0,scale=1.0)\n",
    "plt.plot(x,y,label=\"normal\")\n",
    "\n",
    "y = st.t.pdf(x,loc=0.0,df=n-1)\n",
    "plt.plot(x,y,label=\"t-Student\")\n",
    "\n",
    "plt.legend()"
   ]
  },
  {
   "cell_type": "markdown",
   "metadata": {},
   "source": [
    "El teorema del limite central dice que la distribución bootstrap del estadístico se aproxima a una distribución normal si el número **m** de remuestreos es grande.\n",
    "* La media de la distribución bootstrap se encuentra cerca de la media de la muestra original. Esto es, la media de la distribución bootstrap tiene un sesgo pequeño como un estimador de la media de la muestra original. \n",
    "* Podemos calculas el **error estandar** del estadístico calculando la desviación estandar **s** de la distribución bootstrap. Sabemos que la desviación estandar de un estadístico es $\\sigma / \\sqrt n$, donde $\\sigma$ es la desviación estadar de las observaciones individuales de la población. En general, uno lo que hace es utilizar la desviación estandar **s** de la muestra aleatoria como un *proxy* para $\\sigma$.\n",
    "\n",
    "---\n",
    "**ERROR ESTANDAR BOOTSTRAP**\n",
    "\n",
    "El error estardar bootstrap **SEboot** de un estadístico es la desviación estardar de la distribución bootstrap del estadístico. \n",
    "\n",
    "---\n"
   ]
  },
  {
   "cell_type": "markdown",
   "metadata": {},
   "source": [
    "## Distribución t-student\n",
    "\n",
    "Supongamos que tenemos una muestra con $X_i,\\, i=1,..,n$ variables obtenidas de una población que sigue una distribución normal con valor de expectación $\\mu$ y varianza $\\sigma^2$.\n",
    "\n",
    "Sea\n",
    "\\begin{equation}\n",
    "\\bar{X} = \\frac{1}{n} \\sum_{i = 1}^{n} X_{i}\n",
    "\\end{equation}\n",
    "la media de la muestra y \n",
    "\\begin{equation}\n",
    "S^2=\\frac{1}{n-1} \\sum_{i = 1}^{n} \\left( X_i - \\bar{X} \\right)^{2}\n",
    "\\end{equation}\n",
    "la varianza. Entonces la variable aleatoria definida como:\n",
    "\\begin{equation}\n",
    "\\frac{\\bar{X} - \\mu }{\\sigma/\\sqrt{n}}\n",
    "\\end{equation}\n",
    "tiene una distribución normal con valor de expetación $0$ y varianza $1$, y la variable aleatoria definida por\n",
    "\\begin{equation}\n",
    "\\frac{\\bar{X} - \\mu }{S/\\sqrt{n}}\n",
    "\\end{equation}\n",
    "tiene una distribución t de Student con $n-1$ grados de libertad"
   ]
  },
  {
   "cell_type": "code",
   "execution_count": 7,
   "metadata": {
    "ExecuteTime": {
     "end_time": "2018-09-21T02:39:41.430349Z",
     "start_time": "2018-09-21T02:39:41.090387Z"
    }
   },
   "outputs": [
    {
     "data": {
      "text/plain": [
       "<matplotlib.legend.Legend at 0x7f7a38e5fb90>"
      ]
     },
     "execution_count": 7,
     "metadata": {},
     "output_type": "execute_result"
    },
    {
     "data": {
      "image/png": "[encoded data removed]",
      "text/plain": [
       "<matplotlib.figure.Figure at 0x7f7a38ee25d0>"
      ]
     },
     "metadata": {},
     "output_type": "display_data"
    }
   ],
   "source": [
    "_x = np.linspace(-6,6,100)\n",
    "_y = st.t.pdf(_x,df=n-1)\n",
    "plt.plot(_x,_y,label=\"t-Student\")\n",
    "\n",
    "_y = st.norm.pdf(_x)\n",
    "plt.plot(_x,_y,label=\"Normal\")\n",
    "plt.legend()"
   ]
  },
  {
   "cell_type": "markdown",
   "metadata": {},
   "source": [
    "## Intervalo de confianza\n",
    "\n",
    "Supongamos que la distribución bootstrap de un estadístico de una muestra de tamaño $n$ es aproximadamente gaussiana y que el sesgo de la estimación por bootstrap es pequeño. Entonces, el intervalo de confidencia de nivel **C** se define como \n",
    "\\begin{equation}\n",
    "estadístico \\pm t^*\\,\\textrm{SEboot}\n",
    "\\end{equation}\n",
    "donde SEboot es el error estardar bootstrap para este estadístico y $t^*$ es valor crítico de la distribución t de Student con $n-1$ grados de libertad con un área **C** entre $-t^*$ y $t^*$."
   ]
  },
  {
   "cell_type": "markdown",
   "metadata": {},
   "source": [
    "Supongamos que queremos un nivel de significancia del $95 \\%$, o $\\alpha = 0.05$. Entonces encontramos el valor de $t^*$"
   ]
  },
  {
   "cell_type": "code",
   "execution_count": 8,
   "metadata": {
    "ExecuteTime": {
     "end_time": "2018-09-21T02:39:47.110967Z",
     "start_time": "2018-09-21T02:39:47.095128Z"
    }
   },
   "outputs": [
    {
     "name": "stdout",
     "output_type": "stream",
     "text": [
      "-2.0930240544082634 2.093024054408263\n"
     ]
    }
   ],
   "source": [
    "alpha = 0.05\n",
    "t1 = st.t.ppf(alpha/2.0,n-1)\n",
    "t2 = st.t.ppf(1.-alpha/2.0,n-1)\n",
    "print t1,t2"
   ]
  },
  {
   "cell_type": "markdown",
   "metadata": {},
   "source": [
    "Vemos que si calculamos el área bajo la distribución de probabilidad obtenemos un valor de $0.95$ aproximadamente como requerimos"
   ]
  },
  {
   "cell_type": "code",
   "execution_count": 9,
   "metadata": {
    "ExecuteTime": {
     "end_time": "2018-09-21T02:39:50.061032Z",
     "start_time": "2018-09-21T02:39:50.052145Z"
    }
   },
   "outputs": [
    {
     "name": "stdout",
     "output_type": "stream",
     "text": [
      "0.9506997477569983\n"
     ]
    }
   ],
   "source": [
    "integral = st.t.cdf(t2,n) - st.t.cdf(t1,n)\n",
    "print integral"
   ]
  },
  {
   "cell_type": "markdown",
   "metadata": {},
   "source": [
    "Luego, el intervalo de confianza estará dado por"
   ]
  },
  {
   "cell_type": "code",
   "execution_count": 67,
   "metadata": {
    "ExecuteTime": {
     "end_time": "2018-09-19T02:38:32.692640Z",
     "start_time": "2018-09-19T02:38:32.680809Z"
    }
   },
   "outputs": [
    {
     "name": "stdout",
     "output_type": "stream",
     "text": [
      "-0.9751703745347629 0.9751703745347626\n"
     ]
    }
   ],
   "source": [
    "x1 = t1*boot.std()\n",
    "x2 = t2*boot.std()\n",
    "print x1,x2"
   ]
  },
  {
   "cell_type": "code",
   "execution_count": 82,
   "metadata": {
    "ExecuteTime": {
     "end_time": "2018-09-19T02:47:30.175349Z",
     "start_time": "2018-09-19T02:47:30.162377Z"
    }
   },
   "outputs": [
    {
     "name": "stdout",
     "output_type": "stream",
     "text": [
      "Valor medio 1.80\n",
      "Intervalo de confidencia 95 (0.82, 2.77)\n"
     ]
    }
   ],
   "source": [
    "h1 = muestra.mean() + x1\n",
    "h2 = muestra.mean() + x2\n",
    "print \"Valor medio %.2f\" % muestra.mean()\n",
    "print \"Intervalo de confidencia 95 (%.2f, %.2f)\" % (h1,h2)"
   ]
  },
  {
   "cell_type": "markdown",
   "metadata": {},
   "source": [
    "```python\n",
    "muestra.mean() +/- x1\n",
    "```"
   ]
  },
  {
   "cell_type": "markdown",
   "metadata": {},
   "source": [
    "# Biblioteca de Astropy"
   ]
  },
  {
   "cell_type": "code",
   "execution_count": 68,
   "metadata": {
    "ExecuteTime": {
     "end_time": "2018-09-19T02:38:56.293759Z",
     "start_time": "2018-09-19T02:38:56.283773Z"
    }
   },
   "outputs": [],
   "source": [
    "from astropy.stats import bootstrap\n",
    "from astropy.utils import NumpyRNGContext"
   ]
  },
  {
   "cell_type": "code",
   "execution_count": 78,
   "metadata": {
    "ExecuteTime": {
     "end_time": "2018-09-19T02:44:07.372093Z",
     "start_time": "2018-09-19T02:44:07.326319Z"
    }
   },
   "outputs": [],
   "source": [
    "with NumpyRNGContext(1):\n",
    "    bootresult = bootstrap(muestra, bootnum=1000, bootfunc=np.mean)"
   ]
  },
  {
   "cell_type": "code",
   "execution_count": 83,
   "metadata": {
    "ExecuteTime": {
     "end_time": "2018-09-19T02:47:34.922075Z",
     "start_time": "2018-09-19T02:47:34.587794Z"
    }
   },
   "outputs": [
    {
     "name": "stdout",
     "output_type": "stream",
     "text": [
      "Media Bootstrap 1.768, Desviacion Stardar 0.449\n",
      "Valor medio 1.80\n",
      "Intervalo de confidencia 95 (0.78, 2.81)\n"
     ]
    },
    {
     "data": {
      "image/png": "[encoded data removed]",
      "text/plain": [
       "<matplotlib.figure.Figure at 0x7f3efbf4c810>"
      ]
     },
     "metadata": {},
     "output_type": "display_data"
    }
   ],
   "source": [
    "plt.hist(bootresult,alpha=0.5)\n",
    "plt.vlines(bootresult.mean(),0.,250)\n",
    "plt.vlines(muestra.mean(),0,250)\n",
    "print \"Media Bootstrap %.3f, Desviacion Stardar %.3f\" % (bootresult.mean(),bootresult.std())\n",
    "\n",
    "h1 = muestra.mean() + t1*bootresult.std()\n",
    "h2 = muestra.mean() + t2*bootresult.std()\n",
    "\n",
    "print \"Valor medio %.2f\" % muestra.mean()\n",
    "print \"Intervalo de confidencia 95 (%.2f, %.2f)\" % (h1,h2)"
   ]
  },
  {
   "cell_type": "markdown",
   "metadata": {},
   "source": [
    "# Experimentando"
   ]
  },
  {
   "cell_type": "code",
   "execution_count": 22,
   "metadata": {
    "ExecuteTime": {
     "end_time": "2018-09-21T03:30:28.025299Z",
     "start_time": "2018-09-21T03:30:27.035944Z"
    }
   },
   "outputs": [
    {
     "data": {
      "text/plain": [
       "[<matplotlib.lines.Line2D at 0x7f7a38cd0750>]"
      ]
     },
     "execution_count": 22,
     "metadata": {},
     "output_type": "execute_result"
    },
    {
     "data": {
      "image/png": "[encoded data removed]",
      "text/plain": [
       "<matplotlib.figure.Figure at 0x7f7a388d5950>"
      ]
     },
     "metadata": {},
     "output_type": "display_data"
    }
   ],
   "source": [
    "def func(x):\n",
    "    return(np.mean(x))\n",
    "\n",
    "n = 20\n",
    "\n",
    "m = 10000\n",
    "theta_m = np.zeros(m)\n",
    "for i in range(m):\n",
    "    x = np.random.normal(size=20,loc=0.0,scale=1.0)\n",
    "    theta_m[i] = func(x)\n",
    "\n",
    "bins = int(np.sqrt(m))\n",
    "plt.hist(theta_m,normed=True,bins=bins)\n",
    "\n",
    "_x = np.linspace(-1,1,100)\n",
    "p = st.norm()\n",
    "_y = st.norm.pdf(_x,loc=0.0,scale=1./np.sqrt(n))\n",
    "plt.plot(_x,_y)"
   ]
  },
  {
   "cell_type": "code",
   "execution_count": null,
   "metadata": {},
   "outputs": [],
   "source": [
    "\n"
   ]
  }
 ],
 "metadata": {
  "kernelspec": {
   "display_name": "Python 2",
   "language": "python",
   "name": "python2"
  },
  "language_info": {
   "codemirror_mode": {
    "name": "ipython",
    "version": 2
   },
   "file_extension": ".py",
   "mimetype": "text/x-python",
   "name": "python",
   "nbconvert_exporter": "python",
   "pygments_lexer": "ipython2",
   "version": "2.7.14"
  }
 },
 "nbformat": 4,
 "nbformat_minor": 2
}
