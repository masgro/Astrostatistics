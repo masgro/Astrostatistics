{
 "cells": [
  {
   "cell_type": "markdown",
   "metadata": {},
   "source": [
    "# Prueba de hipótesis $\\chi^2$\n",
    "\n",
    "**Hipótesis nula, $H_0$**\n",
    "\n",
    "    La muestra tiene una distribución binomial B(n=10,p=0.4)\n",
    "\n",
    "**Hipótesis alternativa, $H_a$**\n",
    "\n",
    "    La muestra tiene una distribución distinta a B(n=10,p=0.4)"
   ]
  },
  {
   "cell_type": "code",
   "execution_count": 1,
   "metadata": {
    "ExecuteTime": {
     "end_time": "2018-09-19T14:12:57.994932Z",
     "start_time": "2018-09-19T14:12:57.427751Z"
    }
   },
   "outputs": [],
   "source": [
    "import numpy as np\n",
    "import matplotlib.pyplot as plt\n",
    "import scipy.stats as st"
   ]
  },
  {
   "cell_type": "code",
   "execution_count": 2,
   "metadata": {
    "ExecuteTime": {
     "end_time": "2018-09-19T14:12:58.669519Z",
     "start_time": "2018-09-19T14:12:58.371128Z"
    }
   },
   "outputs": [
    {
     "data": {
      "text/plain": [
       "<matplotlib.text.Text at 0x7f5e23e51690>"
      ]
     },
     "execution_count": 2,
     "metadata": {},
     "output_type": "execute_result"
    },
    {
     "data": {
      "image/png": "[encoded data removed]",
      "text/plain": [
       "<matplotlib.figure.Figure at 0x7f5e23e9c310>"
      ]
     },
     "metadata": {},
     "output_type": "display_data"
    }
   ],
   "source": [
    "x = np.linspace(0,100.0,100)\n",
    "\n",
    "for k in range(1,6):\n",
    "    chi_st = st.chi2.cdf(x,k)\n",
    "    #plt.plot(x,1.-chi_st,label=\"df=%d\" % k)\n",
    "    \n",
    "k = 99\n",
    "chi_st = st.chi2.cdf(x,k)\n",
    "plt.plot(x,1.-chi_st,label=\"df=%d\" % k)\n",
    "plt.legend()\n",
    "plt.xlabel(\"chi^2\")\n",
    "plt.ylabel(\"p-value\")"
   ]
  },
  {
   "cell_type": "code",
   "execution_count": 3,
   "metadata": {
    "ExecuteTime": {
     "end_time": "2018-09-19T14:12:59.807674Z",
     "start_time": "2018-09-19T14:12:59.518554Z"
    }
   },
   "outputs": [
    {
     "data": {
      "text/plain": [
       "[<matplotlib.lines.Line2D at 0x7f5e21d8d2d0>]"
      ]
     },
     "execution_count": 3,
     "metadata": {},
     "output_type": "execute_result"
    },
    {
     "data": {
      "image/png": "[encoded data removed]",
      "text/plain": [
       "<matplotlib.figure.Figure at 0x7f5e23e3ce50>"
      ]
     },
     "metadata": {},
     "output_type": "display_data"
    }
   ],
   "source": [
    "n = 10 \n",
    "p = 0.4\n",
    "m = 100\n",
    "\n",
    "muestra = np.random.binomial(n,p,size=m)\n",
    "\n",
    "h = plt.hist(muestra,bins=11,range=(-0.5,10.5),normed=True,align='mid',alpha=0.3)\n",
    "plt.xlim(-0.5,10.5)\n",
    "plt.ylim(0.0,0.3)\n",
    "\n",
    "x = np.arange(11)\n",
    "binom = st.binom(n,p)\n",
    "y = binom.pmf(x)\n",
    "plt.step(x,y,where='mid',lw=3,c='r')"
   ]
  },
  {
   "cell_type": "markdown",
   "metadata": {},
   "source": [
    "Nos preguntamos ahora si nuestra muestra se corresponde con una distribución binomial"
   ]
  },
  {
   "cell_type": "code",
   "execution_count": 4,
   "metadata": {
    "ExecuteTime": {
     "end_time": "2018-09-19T14:13:01.780344Z",
     "start_time": "2018-09-19T14:13:01.771928Z"
    }
   },
   "outputs": [],
   "source": [
    "def chi2(xo,xt):\n",
    "    test = (xt-xo)**2/xt\n",
    "    test = test.sum()\n",
    "    return test"
   ]
  },
  {
   "cell_type": "code",
   "execution_count": 5,
   "metadata": {
    "ExecuteTime": {
     "end_time": "2018-09-19T14:13:02.535386Z",
     "start_time": "2018-09-19T14:13:02.515330Z"
    }
   },
   "outputs": [
    {
     "name": "stdout",
     "output_type": "stream",
     "text": [
      "0.09784065991704195\n"
     ]
    }
   ],
   "source": [
    "x_obs = h[0]\n",
    "x_teo = y\n",
    "\n",
    "chi = chi2(x_obs,x_teo)\n",
    "print chi"
   ]
  },
  {
   "cell_type": "code",
   "execution_count": 6,
   "metadata": {
    "ExecuteTime": {
     "end_time": "2018-09-19T14:13:03.085179Z",
     "start_time": "2018-09-19T14:13:03.072780Z"
    }
   },
   "outputs": [
    {
     "name": "stdout",
     "output_type": "stream",
     "text": [
      "9.34181776559197\n"
     ]
    }
   ],
   "source": [
    "df = len(x_obs) - 1\n",
    "alpha = 0.5\n",
    "\n",
    "chi_test = st.chi2.ppf(1.-alpha,df)\n",
    "print chi_test"
   ]
  },
  {
   "cell_type": "code",
   "execution_count": 7,
   "metadata": {
    "ExecuteTime": {
     "end_time": "2018-09-19T14:13:03.574810Z",
     "start_time": "2018-09-19T14:13:03.560316Z"
    }
   },
   "outputs": [
    {
     "name": "stdout",
     "output_type": "stream",
     "text": [
      "Aceptamos la hipótesis nula\n"
     ]
    }
   ],
   "source": [
    "if chi < chi_test:\n",
    "    print \"Aceptamos la hipótesis nula\"\n",
    "else:\n",
    "    print \"Rechazamos la hipótesis nula\""
   ]
  },
  {
   "cell_type": "markdown",
   "metadata": {},
   "source": [
    "# Comparamos con una gaussiana"
   ]
  },
  {
   "cell_type": "code",
   "execution_count": 8,
   "metadata": {
    "ExecuteTime": {
     "end_time": "2018-09-19T14:13:04.797254Z",
     "start_time": "2018-09-19T14:13:04.500339Z"
    }
   },
   "outputs": [
    {
     "data": {
      "text/plain": [
       "(0.0, 0.3)"
      ]
     },
     "execution_count": 8,
     "metadata": {},
     "output_type": "execute_result"
    },
    {
     "data": {
      "image/png": "[encoded data removed]",
      "text/plain": [
       "<matplotlib.figure.Figure at 0x7f5e21def9d0>"
      ]
     },
     "metadata": {},
     "output_type": "display_data"
    }
   ],
   "source": [
    "mu = muestra.mean()\n",
    "sigma = muestra.std()\n",
    "\n",
    "puntos = np.arange(0,11,dtype=np.float)\n",
    "x_teo = st.norm.pdf(puntos,loc=mu,scale=sigma)\n",
    "\n",
    "plt.step(puntos,x_teo,where='mid',lw=3,c='r')\n",
    "\n",
    "h = plt.hist(muestra,bins=11,range=(-0.5,10.5),normed=True,align='mid',alpha=0.3)\n",
    "plt.xlim(-0.5,10.5)\n",
    "plt.ylim(0.0,0.3)"
   ]
  },
  {
   "cell_type": "code",
   "execution_count": 9,
   "metadata": {
    "ExecuteTime": {
     "end_time": "2018-09-19T14:13:04.896417Z",
     "start_time": "2018-09-19T14:13:04.885197Z"
    }
   },
   "outputs": [
    {
     "name": "stdout",
     "output_type": "stream",
     "text": [
      "0.09325763628354009\n",
      "Aceptamos la hipótesis nula\n"
     ]
    }
   ],
   "source": [
    "chi = chi2(x_obs,x_teo)\n",
    "print chi\n",
    "\n",
    "if chi < chi_test:\n",
    "    print \"Aceptamos la hipótesis nula\"\n",
    "else:\n",
    "    print \"Rechazamos la hipótesis nula\""
   ]
  },
  {
   "cell_type": "code",
   "execution_count": 10,
   "metadata": {
    "ExecuteTime": {
     "end_time": "2018-09-19T14:13:05.608017Z",
     "start_time": "2018-09-19T14:13:05.562758Z"
    }
   },
   "outputs": [],
   "source": [
    "nchis = 100\n",
    "chis = np.zeros(nchis)\n",
    "mus = np.linspace(0.0,8.0,nchis)\n",
    "\n",
    "for i,mu in enumerate(mus):\n",
    "    puntos = np.arange(0,11,dtype=np.float)\n",
    "    x_teo = st.norm.pdf(puntos,loc=mu,scale=sigma)\n",
    "    chis[i] = chi2(x_obs,x_teo)\n"
   ]
  },
  {
   "cell_type": "code",
   "execution_count": 11,
   "metadata": {
    "ExecuteTime": {
     "end_time": "2018-09-19T14:13:06.403264Z",
     "start_time": "2018-09-19T14:13:06.054265Z"
    }
   },
   "outputs": [
    {
     "data": {
      "text/plain": [
       "(0.0, 50.0)"
      ]
     },
     "execution_count": 11,
     "metadata": {},
     "output_type": "execute_result"
    },
    {
     "data": {
      "image/png": "[encoded data removed]",
      "text/plain": [
       "<matplotlib.figure.Figure at 0x7f5e23e51110>"
      ]
     },
     "metadata": {},
     "output_type": "display_data"
    }
   ],
   "source": [
    "plt.plot(mus,chis)\n",
    "plt.hlines(chi_test,0.0,8.0)\n",
    "plt.ylim(0.0,50.0)"
   ]
  },
  {
   "cell_type": "code",
   "execution_count": 12,
   "metadata": {
    "ExecuteTime": {
     "end_time": "2018-09-19T14:13:07.164017Z",
     "start_time": "2018-09-19T14:13:06.604532Z"
    }
   },
   "outputs": [
    {
     "data": {
      "image/png": "[encoded data removed]",
      "text/plain": [
       "<matplotlib.figure.Figure at 0x7f5e21abee50>"
      ]
     },
     "metadata": {},
     "output_type": "display_data"
    }
   ],
   "source": [
    "h = plt.hist(muestra,bins=11,range=(-0.5,10.5),normed=True,align='mid',alpha=0.3)\n",
    "plt.xlim(-0.5,10.5)\n",
    "plt.ylim(0.0,0.3)\n",
    "\n",
    "indx = chis < chi_test\n",
    "\n",
    "puntos = np.arange(0,11,dtype=np.float)\n",
    "for mu in mus[indx]:\n",
    "    x_teo = st.norm.pdf(puntos,loc=mu,scale=sigma)\n",
    "    plt.step(puntos,x_teo,where='mid',lw=1,c='r')"
   ]
  },
  {
   "cell_type": "code",
   "execution_count": 14,
   "metadata": {
    "ExecuteTime": {
     "end_time": "2018-09-19T14:13:41.662965Z",
     "start_time": "2018-09-19T14:13:41.651807Z"
    }
   },
   "outputs": [
    {
     "data": {
      "text/plain": [
       "Power_divergenceResult(statistic=8.987791088713951, pvalue=0.5332626401886563)"
      ]
     },
     "execution_count": 14,
     "metadata": {},
     "output_type": "execute_result"
    }
   ],
   "source": [
    "st.chisquare(x_obs,x_teo)"
   ]
  },
  {
   "cell_type": "code",
   "execution_count": 27,
   "metadata": {
    "ExecuteTime": {
     "end_time": "2018-09-19T14:22:53.602145Z",
     "start_time": "2018-09-19T14:22:53.580009Z"
    }
   },
   "outputs": [
    {
     "name": "stdout",
     "output_type": "stream",
     "text": [
      "8.987791088713951 0.5332626401886563\n"
     ]
    }
   ],
   "source": [
    "a = chis[indx]\n",
    "a[-1]\n",
    "\n",
    "chi_st = st.chi2.cdf(a[-1],10)\n",
    "print a[-1],1.-chi_st"
   ]
  },
  {
   "cell_type": "code",
   "execution_count": null,
   "metadata": {},
   "outputs": [],
   "source": []
  }
 ],
 "metadata": {
  "kernelspec": {
   "display_name": "Python 2",
   "language": "python",
   "name": "python2"
  },
  "language_info": {
   "codemirror_mode": {
    "name": "ipython",
    "version": 2
   },
   "file_extension": ".py",
   "mimetype": "text/x-python",
   "name": "python",
   "nbconvert_exporter": "python",
   "pygments_lexer": "ipython2",
   "version": "2.7.14"
  }
 },
 "nbformat": 4,
 "nbformat_minor": 2
}
