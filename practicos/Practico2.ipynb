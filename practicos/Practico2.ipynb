{
 "cells": [
  {
   "cell_type": "code",
   "execution_count": 2,
   "metadata": {
    "ExecuteTime": {
     "end_time": "2018-09-09T00:02:37.764133Z",
     "start_time": "2018-09-09T00:02:37.377311Z"
    }
   },
   "outputs": [],
   "source": [
    "%matplotlib inline\n",
    "import matplotlib.pyplot as plt\n",
    "import numpy as np"
   ]
  },
  {
   "cell_type": "markdown",
   "metadata": {},
   "source": [
    "# Distribución de Fisher-Tippet\n",
    "\n",
    "Diseñe, implemente y verifique una función en \\textsc{python} que retorne un número aleatorio con una distribución de \\textit{Fisher-Tippett} con parámetro $\\lambda$, calculado mediante el método de inversión. \n",
    "\n",
    "Ayuda: Para testear la función se puede calcular la media de los números generados y comparala con el valor de expectación de la distribución de Fisher-Tippett, que es $E(F) = 0.57721/\\lambda$.\n",
    "\n",
    "\\begin{equation*}\n",
    "\tf(x) = \\frac{1}{\\sigma}\\, t(x)^{\\xi + 1}\\, e^{-t(x)}  \n",
    "\\end{equation*}\n",
    "donde $t(x)$ para $\\xi = 0$ viene dada por:\n",
    "\\begin{equation*}\n",
    "\tt(x) = e^{-\\frac{x-\\mu}{\\sigma}}\n",
    "\\end{equation*}\n",
    "y para $\\xi \\neq 0$\n",
    "\\begin{equation*}\n",
    "\tt(x) = \\left( 1 + \\xi\\ \\frac{x - \\mu}{\\sigma} \\right)^{-\\frac{1}{\\xi}}\n",
    "\\end{equation*}\n",
    "con $\\sigma$,$\\mu$ y $\\xi$ son los parámetros de la distribución.\n",
    "\n",
    "Soporte \n",
    "\\begin{cases}\n",
    "\\begin{align}\n",
    "& x \\in [ \\mu - \\sigma/\\xi, +\\infty) & \\  & {\\text{cuando}}\\ \\xi > 0 \\\\\n",
    "& x \\in ( -\\infty, +\\infty )         & \\  & {\\text{cuando}}\\ \\xi = 0 \\\\\n",
    "& x \\in ( -\\infty, \\mu - \\sigma/\\xi ] & \\  & {\\text{cuando}}\\ \\xi < 0\n",
    "\\end{align}\n",
    "\\end{cases}\n",
    "\n",
    "La media de la distribución es:\n",
    "\\begin{cases}\n",
    "\\begin{align}\n",
    "& \\mu +\\sigma (g_{1}-1)/\\xi & \\,\\, & {\\text{si}}\\ \\xi \\neq 0,\\xi < 1,\\\\\n",
    "& \\mu +\\sigma \\,\\gamma      & \\,\\, & {\\text{si}}\\ \\xi =0,\\\\\n",
    "& \\infty                    & \\,\\, & {\\text{si}}\\ \\xi \\geq 1,\n",
    "\\end{align}\n",
    "\\end{cases}\n",
    "donde $g_k$ es $\\Gamma(1-k\\xi)$, y $\\gamma$ es la constante de Euler ($\\gamma = 2.718$)"
   ]
  },
  {
   "cell_type": "markdown",
   "metadata": {},
   "source": [
    "Para encontrar la Función de Distribución Acumulada, notemos primero que:\n",
    "\\begin{equation*}\n",
    "\t\\frac{d\\, t(x)}{dx} = -\\frac{1}{\\sigma}\\, t(x)^{1+\\xi}\n",
    "\\end{equation*}\n",
    "Entonces, $f(x)$ se puede escribir como:\n",
    "\\begin{align}\n",
    "f(x) = & -\\frac{d\\, t(x)}{dx} e^{-t(x)} \\\\\n",
    "     = & \\frac{d\\, e^{-t(x)}}{dx}\n",
    "\\end{align}\n",
    "Por lo tanto,\n",
    "\\begin{align}\n",
    "F(x) = & \\int f(x)\\, dx \\\\\n",
    "     = & \\int \\frac{d\\, e^{-t(x)}}{dx}\\, dx\\\\\n",
    "     = &\\, e^{-t(x)}\n",
    "\\end{align}\n",
    "Una vez encontrada la función acumulada, debemos calcular la función inversa de la misma $F^{-1}(y)$. Para ello recordamos que la inversa de una función compuesta es la composición de las inversas de las funciones invertida. Es decir\n",
    "\\begin{equation}\n",
    "(g\\ \\text{o}\\ f)^{-1} = f^{-1}\\ \\text{o}\\ g^{-1}\n",
    "\\end{equation} \n",
    "Si reescribimos $F(x)$ como\n",
    "\\begin{equation}\n",
    "F(x) = g(x)\\ \\text{o}\\ f(x)\n",
    "\\end{equation}\n",
    "donde\n",
    "\\begin{align}\n",
    "f(x) & = t(x) \\\\\n",
    "g(x) & = e^{-x}\n",
    "\\end{align}\n",
    "La función inversa la podemos calcular entonces como:\n",
    "\\begin{equation}\n",
    "F^{-1}(y) = t^{-1}(-\\text{ln}(y))\n",
    "\\end{equation}\n",
    "donde $t^{-1}(y)$ para $\\xi = 0$ viene dada por:\n",
    "\\begin{equation*}\n",
    "\tt^{-1}(y) = \\text{ln}(y)\\cdot\\sigma + \\mu\n",
    "\\end{equation*}\n",
    "y para $\\xi \\neq 0$\n",
    "\\begin{equation*}\n",
    "\tt^{-1}(y) = \\left( y^{-\\xi} - 1 \\right)\\cdot\\frac{\\sigma}{\\xi} + \\mu\n",
    "\\end{equation*}\n",
    "con $\\sigma$,$\\mu$ y $\\xi$ son los parámetros de la distribución."
   ]
  },
  {
   "cell_type": "code",
   "execution_count": 85,
   "metadata": {
    "ExecuteTime": {
     "end_time": "2018-09-08T21:27:56.536491Z",
     "start_time": "2018-09-08T21:27:56.521854Z"
    }
   },
   "outputs": [],
   "source": [
    "def t(x,xi=0.0,sigma=1.0,mu=0.0):\n",
    "    if (xi == 0.0):\n",
    "        y = np.exp(-(x-mu)/sigma)\n",
    "    else:\n",
    "        y = (1 + xi*(x-mu)/sigma)**(-1.0/xi)\n",
    "    return y\n",
    "    \n",
    "def f(x,xi=0.0,sigma=1.0,mu=0.0):\n",
    "    z = t(x,xi=xi,sigma=sigma,mu=mu)\n",
    "    y = 1./sigma*z**(1.+xi)*np.exp(-z)\n",
    "    return y"
   ]
  },
  {
   "cell_type": "code",
   "execution_count": 61,
   "metadata": {
    "ExecuteTime": {
     "end_time": "2018-09-08T21:22:26.015680Z",
     "start_time": "2018-09-08T21:22:25.679738Z"
    }
   },
   "outputs": [
    {
     "data": {
      "text/plain": [
       "[<matplotlib.lines.Line2D at 0x7f6dff4b16d0>]"
      ]
     },
     "execution_count": 61,
     "metadata": {},
     "output_type": "execute_result"
    },
    {
     "data": {
      "image/png": "[encoded data removed]",
      "text/plain": [
       "<matplotlib.figure.Figure at 0x7f6dff880250>"
      ]
     },
     "metadata": {},
     "output_type": "display_data"
    }
   ],
   "source": [
    "x = np.linspace(-4.0,10.0,100)\n",
    "plt.plot(x,f(x))"
   ]
  },
  {
   "cell_type": "code",
   "execution_count": 86,
   "metadata": {
    "ExecuteTime": {
     "end_time": "2018-09-08T21:28:07.450714Z",
     "start_time": "2018-09-08T21:28:07.438250Z"
    }
   },
   "outputs": [
    {
     "data": {
      "text/plain": [
       "0.0"
      ]
     },
     "execution_count": 86,
     "metadata": {},
     "output_type": "execute_result"
    }
   ],
   "source": [
    "f(-100.0)"
   ]
  },
  {
   "cell_type": "code",
   "execution_count": 41,
   "metadata": {
    "ExecuteTime": {
     "end_time": "2018-09-08T20:27:35.930294Z",
     "start_time": "2018-09-08T20:27:35.911588Z"
    }
   },
   "outputs": [],
   "source": [
    "def t_inv(y,xi=0.0,sigma=1.0,mu=0.0):\n",
    "    if (xi == 0.0):\n",
    "        x = -np.log(y)*sigma + mu\n",
    "    else:\n",
    "        x = (y**(-xi) - 1.0)*sigma/xi + mu\n",
    "    return x\n",
    "\n",
    "def F_inv(y,xi=0.0,sigma=1.0,mu=0.0):\n",
    "    x = t_inv(z,xi=xi,sigma=sigma,mu=mu)\n",
    "    return x"
   ]
  },
  {
   "cell_type": "code",
   "execution_count": 42,
   "metadata": {
    "ExecuteTime": {
     "end_time": "2018-09-08T20:27:37.239706Z",
     "start_time": "2018-09-08T20:27:36.562987Z"
    }
   },
   "outputs": [
    {
     "data": {
      "text/plain": [
       "[<matplotlib.lines.Line2D at 0x7f6e01abf250>]"
      ]
     },
     "execution_count": 42,
     "metadata": {},
     "output_type": "execute_result"
    },
    {
     "data": {
      "image/png": "[encoded data removed]",
      "text/plain": [
       "<matplotlib.figure.Figure at 0x7f6e01d683d0>"
      ]
     },
     "metadata": {},
     "output_type": "display_data"
    }
   ],
   "source": [
    "y = np.random.rand(10000)\n",
    "x = F_inv(y,sigma=2.0)\n",
    "plt.hist(x,bins=100,normed=True,alpha=0.5)\n",
    "\n",
    "x = np.linspace(-4.0,10.0,100)\n",
    "plt.plot(x,f(x,sigma=2.0))"
   ]
  },
  {
   "cell_type": "code",
   "execution_count": 91,
   "metadata": {
    "ExecuteTime": {
     "end_time": "2018-09-08T21:35:36.280249Z",
     "start_time": "2018-09-08T21:35:35.506168Z"
    }
   },
   "outputs": [
    {
     "data": {
      "text/plain": [
       "[<matplotlib.lines.Line2D at 0x7f6dfed8d150>]"
      ]
     },
     "execution_count": 91,
     "metadata": {},
     "output_type": "execute_result"
    },
    {
     "data": {
      "image/png": "[encoded data removed]",
      "text/plain": [
       "<matplotlib.figure.Figure at 0x7f6dfeae97d0>"
      ]
     },
     "metadata": {},
     "output_type": "display_data"
    }
   ],
   "source": [
    "y = np.random.rand(1000000)\n",
    "x = F_inv(y,xi=-0.5)\n",
    "plt.hist(x,bins=100,normed=True,alpha=0.5)\n",
    "\n",
    "xmax = (0.0 - 1.0/0.5)\n",
    "x = np.linspace(-5.0,xmax,100)\n",
    "plt.plot(x,f(x,xi=-0.5))"
   ]
  },
  {
   "cell_type": "code",
   "execution_count": 95,
   "metadata": {
    "ExecuteTime": {
     "end_time": "2018-09-08T21:37:48.682155Z",
     "start_time": "2018-09-08T21:37:48.047529Z"
    }
   },
   "outputs": [
    {
     "name": "stdout",
     "output_type": "stream",
     "text": [
      "-0.29389307451645647 3.730759270166798\n"
     ]
    },
    {
     "name": "stderr",
     "output_type": "stream",
     "text": [
      "/home/marioagustin/MiniConda/lib/python2.7/site-packages/ipykernel_launcher.py:5: RuntimeWarning: divide by zero encountered in power\n",
      "  \"\"\"\n",
      "/home/marioagustin/MiniConda/lib/python2.7/site-packages/ipykernel_launcher.py:10: RuntimeWarning: invalid value encountered in multiply\n",
      "  # Remove the CWD from sys.path while we load stuff.\n"
     ]
    },
    {
     "data": {
      "text/plain": [
       "[<matplotlib.lines.Line2D at 0x7f6dfdc59e50>]"
      ]
     },
     "execution_count": 95,
     "metadata": {},
     "output_type": "execute_result"
    },
    {
     "data": {
      "image/png": "[encoded data removed]",
      "text/plain": [
       "<matplotlib.figure.Figure at 0x7f6dfdf86a90>"
      ]
     },
     "metadata": {},
     "output_type": "display_data"
    }
   ],
   "source": [
    "xi = 0.25\n",
    "sigma = 0.2\n",
    "mu = 0.0\n",
    "\n",
    "y = np.random.rand(1000)\n",
    "x = F_inv(y,xi=xi,sigma=sigma)\n",
    "plt.hist(x[x < 3.0],bins=100,normed=True,alpha=0.5)\n",
    "print x.min(),x.max()\n",
    "\n",
    "xmin = (mu - sigma/xi)\n",
    "x = np.linspace(xmin,3.0,100)\n",
    "plt.plot(x,f(x,xi=xi,sigma=sigma))"
   ]
  },
  {
   "cell_type": "markdown",
   "metadata": {},
   "source": [
    "# Aguja de Buffon\n",
    "\n",
    "$\\theta \\in [0,\\pi]$\n",
    "\n",
    "$x \\in [0,t/2] $\n",
    "\n",
    "$p(x) = \\frac{2}{t}$\n",
    "\n",
    "$p(\\theta) = \\frac{1}{\\pi}$\n",
    "\n",
    "dado que $x$ y $\\theta$ son variables independientes entonces:\n",
    "\n",
    "$p(x,\\theta) = p(x)p(\\theta)$\n",
    "\n",
    "La condición para que una aguja toque una raya es $x \\leq \\frac{l}{2}\\text{sin}(\\theta)$\n",
    "\n",
    "\\begin{align}\n",
    "\\int_{0}^{\\pi} \\int_{0}^{\\frac{l}{2}\\text{sin}(\\theta)} p(x,\\theta) \\text{d}\\theta \\text{d}x & = \\int_{0}^{\\pi} \\frac{l}{t\\pi}\\text{sin}(\\theta) \\text{d}\\theta \\\\\n",
    "& = \\frac{2l}{t\\pi}\n",
    "\\end{align}\n",
    "\n",
    "Entonces, podemos utilizar esto para calcular el valor de $\\pi$\n",
    "\\begin{align}\n",
    "\\frac{N_{tocan}}{N_{tot}} = \\frac{2l}{t\\pi}\n",
    "\\end{align}\n"
   ]
  },
  {
   "cell_type": "code",
   "execution_count": 1,
   "metadata": {
    "ExecuteTime": {
     "end_time": "2018-09-09T00:02:29.760268Z",
     "start_time": "2018-09-09T00:02:29.653732Z"
    }
   },
   "outputs": [
    {
     "ename": "NameError",
     "evalue": "name 'plt' is not defined",
     "output_type": "error",
     "traceback": [
      "\u001b[0;31m---------------------------------------------------------------------------\u001b[0m",
      "\u001b[0;31mNameError\u001b[0m                                 Traceback (most recent call last)",
      "\u001b[0;32m<ipython-input-1-6e7009297458>\u001b[0m in \u001b[0;36m<module>\u001b[0;34m()\u001b[0m\n\u001b[1;32m      2\u001b[0m           \"l\" : 0.5}\n\u001b[1;32m      3\u001b[0m \u001b[0;34m\u001b[0m\u001b[0m\n\u001b[0;32m----> 4\u001b[0;31m \u001b[0mplt\u001b[0m\u001b[0;34m.\u001b[0m\u001b[0mfigure\u001b[0m\u001b[0;34m(\u001b[0m\u001b[0mfigsize\u001b[0m\u001b[0;34m=\u001b[0m\u001b[0;34m(\u001b[0m\u001b[0;36m10\u001b[0m\u001b[0;34m,\u001b[0m\u001b[0;36m10\u001b[0m\u001b[0;34m)\u001b[0m\u001b[0;34m)\u001b[0m\u001b[0;34m\u001b[0m\u001b[0m\n\u001b[0m\u001b[1;32m      5\u001b[0m \u001b[0mplt\u001b[0m\u001b[0;34m.\u001b[0m\u001b[0mplot\u001b[0m\u001b[0;34m(\u001b[0m\u001b[0;34m[\u001b[0m\u001b[0;34m-\u001b[0m\u001b[0;36m3.0\u001b[0m\u001b[0;34m,\u001b[0m\u001b[0;36m6.0\u001b[0m\u001b[0;34m]\u001b[0m\u001b[0;34m,\u001b[0m\u001b[0;34m[\u001b[0m\u001b[0;36m0.0\u001b[0m\u001b[0;34m,\u001b[0m\u001b[0;36m0.0\u001b[0m\u001b[0;34m]\u001b[0m\u001b[0;34m,\u001b[0m\u001b[0mlw\u001b[0m\u001b[0;34m=\u001b[0m\u001b[0;36m3\u001b[0m\u001b[0;34m,\u001b[0m\u001b[0mc\u001b[0m\u001b[0;34m=\u001b[0m\u001b[0;34m'k'\u001b[0m\u001b[0;34m)\u001b[0m\u001b[0;34m\u001b[0m\u001b[0m\n\u001b[1;32m      6\u001b[0m \u001b[0mplt\u001b[0m\u001b[0;34m.\u001b[0m\u001b[0mplot\u001b[0m\u001b[0;34m(\u001b[0m\u001b[0;34m[\u001b[0m\u001b[0;34m-\u001b[0m\u001b[0;36m3.0\u001b[0m\u001b[0;34m,\u001b[0m\u001b[0;36m6.0\u001b[0m\u001b[0;34m]\u001b[0m\u001b[0;34m,\u001b[0m\u001b[0;34m[\u001b[0m\u001b[0mparams\u001b[0m\u001b[0;34m[\u001b[0m\u001b[0;34m\"t\"\u001b[0m\u001b[0;34m]\u001b[0m\u001b[0;34m,\u001b[0m\u001b[0mparams\u001b[0m\u001b[0;34m[\u001b[0m\u001b[0;34m\"t\"\u001b[0m\u001b[0;34m]\u001b[0m\u001b[0;34m]\u001b[0m\u001b[0;34m,\u001b[0m\u001b[0mlw\u001b[0m\u001b[0;34m=\u001b[0m\u001b[0;36m3\u001b[0m\u001b[0;34m,\u001b[0m\u001b[0mc\u001b[0m\u001b[0;34m=\u001b[0m\u001b[0;34m'k'\u001b[0m\u001b[0;34m)\u001b[0m\u001b[0;34m\u001b[0m\u001b[0m\n",
      "\u001b[0;31mNameError\u001b[0m: name 'plt' is not defined"
     ]
    }
   ],
   "source": [
    "params = {\"t\" : 1.0,\n",
    "          \"l\" : 0.5}\n",
    "\n",
    "plt.figure(figsize=(10,10))\n",
    "plt.plot([-3.0,6.0],[0.0,0.0],lw=3,c='k')\n",
    "plt.plot([-3.0,6.0],[params[\"t\"],params[\"t\"]],lw=3,c='k')\n",
    "\n",
    "plt.xlim(-params[\"t\"],2.0*params[\"t\"])\n",
    "plt.ylim(-params[\"t\"],2.0*params[\"t\"])\n",
    "\n",
    "for i in range(100):\n",
    "    theta = np.random.rand()*np.pi\n",
    "    y = np.random.rand()*params[\"t\"]*0.5\n",
    "    \n",
    "    x = np.random.rand()*0.5\n",
    "        \n",
    "    xs = [-np.cos(theta),np.cos(theta)]\n",
    "    ys = [-np.sin(theta),np.sin(theta)]\n",
    "    \n",
    "    xs = np.array(xs)*params[\"l\"]*0.5\n",
    "    ys = np.array(ys)*params[\"l\"]*0.5\n",
    "    \n",
    "    plt.plot(xs+x,ys+y,lw = 2)    "
   ]
  },
  {
   "cell_type": "code",
   "execution_count": 23,
   "metadata": {
    "ExecuteTime": {
     "end_time": "2018-09-09T00:32:06.570786Z",
     "start_time": "2018-09-09T00:28:01.142985Z"
    }
   },
   "outputs": [
    {
     "name": "stdout",
     "output_type": "stream",
     "text": [
      "[1, 1, 2, 6, 14, 26, 45, 85, 177, 336, 658, 1309, 2673, 5286, 10459, 20973, 41843, 83375, 166980, 333893, 667234, 1334347, 2668518]\n"
     ]
    },
    {
     "data": {
      "image/png": "[encoded data removed]",
      "text/plain": [
       "<matplotlib.figure.Figure at 0x7f143399a2d0>"
      ]
     },
     "metadata": {},
     "output_type": "display_data"
    }
   ],
   "source": [
    "import matplotlib.animation\n",
    "from IPython.display import display, clear_output\n",
    "\n",
    "params = {\"t\" : 1.0,\n",
    "          \"l\" : 0.5}\n",
    "\n",
    "\n",
    "def lanza_aguja(params,ax=False):\n",
    "    \n",
    "    theta = np.random.rand()*np.pi\n",
    "    y = np.random.rand()*params[\"t\"]*0.5\n",
    "    \n",
    "    x = np.random.rand()*0.5\n",
    "        \n",
    "    xs = [-np.cos(theta),np.cos(theta)]\n",
    "    ys = [-np.sin(theta),np.sin(theta)]\n",
    "    \n",
    "    xs = np.array(xs)*params[\"l\"]*0.5\n",
    "    ys = np.array(ys)*params[\"l\"]*0.5\n",
    "    \n",
    "    if ax != False:\n",
    "        ax.plot(xs+x,ys+y,lw = 2)\n",
    "        \n",
    "    if y < params[\"l\"]*0.5*np.sin(theta):\n",
    "        return 1\n",
    "    else:\n",
    "        return 0\n",
    "    \n",
    "\n",
    "fig, ax = plt.subplots(figsize=(10.0,10.0))\n",
    "\n",
    "ax.plot([-3.0,6.0],[0.0,0.0],lw=3,c='k')\n",
    "ax.plot([-3.0,6.0],[params[\"t\"],params[\"t\"]],lw=3,c='k')\n",
    "\n",
    "ax.set_xlim(-params[\"t\"],2.0*params[\"t\"])\n",
    "ax.set_ylim(-params[\"t\"],2.0*params[\"t\"])\n",
    "\n",
    "ntot = 10000000\n",
    "cuentas = []\n",
    "cuenta = 0\n",
    "n = 1\n",
    "for i in range(ntot):\n",
    "\n",
    "    #display(fig)\n",
    " \n",
    "    cuenta += lanza_aguja(params,ax=False)\n",
    "    \n",
    "    #ax.text(-0.4,-0.4,\"%d\" % cuenta,\n",
    "    #        bbox=dict(boxstyle=\"square\",\n",
    "    #               ec=(1.0, 1.0, 1.0),\n",
    "    #              fc=(1.0, 1.0, 1.0),\n",
    "    #               ))\n",
    "    \n",
    "    if ((i+1) == 2**n):\n",
    "        cuentas.append(cuenta)\n",
    "        n += 1\n",
    "\n",
    "    #clear_output(wait=True)\n",
    "    \n",
    "print cuentas"
   ]
  },
  {
   "cell_type": "code",
   "execution_count": 24,
   "metadata": {
    "ExecuteTime": {
     "end_time": "2018-09-09T00:41:02.401205Z",
     "start_time": "2018-09-09T00:41:02.393950Z"
    }
   },
   "outputs": [],
   "source": [
    "n = np.arange(1,len(cuentas)+1)"
   ]
  },
  {
   "cell_type": "code",
   "execution_count": 25,
   "metadata": {
    "ExecuteTime": {
     "end_time": "2018-09-09T00:41:02.842475Z",
     "start_time": "2018-09-09T00:41:02.835799Z"
    }
   },
   "outputs": [],
   "source": [
    "e = np.array(cuentas)/2.**n.astype(float)"
   ]
  },
  {
   "cell_type": "code",
   "execution_count": 38,
   "metadata": {
    "ExecuteTime": {
     "end_time": "2018-09-09T00:45:38.459564Z",
     "start_time": "2018-09-09T00:45:37.514923Z"
    }
   },
   "outputs": [
    {
     "data": {
      "text/plain": [
       "[]"
      ]
     },
     "execution_count": 38,
     "metadata": {},
     "output_type": "execute_result"
    },
    {
     "data": {
      "image/png": "[encoded data removed]",
      "text/plain": [
       "<matplotlib.figure.Figure at 0x7f1432dfa850>"
      ]
     },
     "metadata": {},
     "output_type": "display_data"
    }
   ],
   "source": [
    "y = np.log(np.abs((1./e-np.pi)/np.pi))\n",
    "x = 2.0**n\n",
    "plt.plot(x,y)\n",
    "plt.plot(x,np.log(1./np.sqrt(x)))\n",
    "plt.semilogx()"
   ]
  },
  {
   "cell_type": "code",
   "execution_count": 36,
   "metadata": {
    "ExecuteTime": {
     "end_time": "2018-09-09T00:43:40.904639Z",
     "start_time": "2018-09-09T00:43:40.893466Z"
    }
   },
   "outputs": [
    {
     "data": {
      "text/plain": [
       "array([-1.01230553, -1.29740642, -1.29740642, -1.88932619, -1.30035689,\n",
       "       -1.53031268, -2.35825413, -3.18627507, -2.53528416, -3.50947121,\n",
       "       -4.68069437, -5.52783985, -3.7103517 , -4.31280521, -5.90105472,\n",
       "       -5.23032235, -5.84187584, -7.11120198, -7.482905  , -7.92367178,\n",
       "       -7.67363232, -7.49537337, -7.3831493 ])"
      ]
     },
     "execution_count": 36,
     "metadata": {},
     "output_type": "execute_result"
    }
   ],
   "source": [
    "y"
   ]
  },
  {
   "cell_type": "code",
   "execution_count": null,
   "metadata": {},
   "outputs": [],
   "source": []
  }
 ],
 "metadata": {
  "kernelspec": {
   "display_name": "Python 2",
   "language": "python",
   "name": "python2"
  },
  "language_info": {
   "codemirror_mode": {
    "name": "ipython",
    "version": 2
   },
   "file_extension": ".py",
   "mimetype": "text/x-python",
   "name": "python",
   "nbconvert_exporter": "python",
   "pygments_lexer": "ipython2",
   "version": "2.7.14"
  }
 },
 "nbformat": 4,
 "nbformat_minor": 2
}
